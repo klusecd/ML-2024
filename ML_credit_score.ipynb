{
 "cells": [
  {
   "cell_type": "markdown",
   "metadata": {
    "id": "LqiPJlxp_EOr"
   },
   "source": [
    "## **Постановка задачи**\n",
    "\n",
    "Вы работаете специалистом по обработке данных в глобальной финансовой компании. На протяжении многих лет компания собирала основные банковские реквизиты и собирала много информации, связанной с кредитом. Руководство хочет создать интеллектуальную систему для разделения людей на группы кредитных баллов, чтобы уменьшить ручные усилия.\n",
    "\n",
    "## **Задача**\n",
    "\n",
    "Учитывая информацию, связанную с кредитом человека, создайте модель машинного обучения, которая может классифицировать кредитный рейтинг."
   ]
  },
  {
   "cell_type": "code",
   "execution_count": 1,
   "metadata": {
    "id": "x4zxpOGe7UNn"
   },
   "outputs": [],
   "source": [
    "import numpy as np\n",
    "import matplotlib.pyplot as plt\n",
    "import pandas as pd\n",
    "%matplotlib inline"
   ]
  },
  {
   "cell_type": "code",
   "execution_count": 2,
   "metadata": {
    "colab": {
     "base_uri": "https://localhost:8080/",
     "height": 871
    },
    "id": "D6Rb-33B8uoG",
    "outputId": "5107694c-6b81-4766-a4ff-2cbe0315075e",
    "scrolled": true
   },
   "outputs": [
    {
     "name": "stderr",
     "output_type": "stream",
     "text": [
      "C:\\Users\\nedos\\AppData\\Local\\Temp\\ipykernel_30428\\1862463380.py:1: DtypeWarning: Columns (26) have mixed types. Specify dtype option on import or set low_memory=False.\n",
      "  df = pd.read_csv(\"train.csv\")\n"
     ]
    },
    {
     "data": {
      "text/html": [
       "<div>\n",
       "<style scoped>\n",
       "    .dataframe tbody tr th:only-of-type {\n",
       "        vertical-align: middle;\n",
       "    }\n",
       "\n",
       "    .dataframe tbody tr th {\n",
       "        vertical-align: top;\n",
       "    }\n",
       "\n",
       "    .dataframe thead th {\n",
       "        text-align: right;\n",
       "    }\n",
       "</style>\n",
       "<table border=\"1\" class=\"dataframe\">\n",
       "  <thead>\n",
       "    <tr style=\"text-align: right;\">\n",
       "      <th></th>\n",
       "      <th>ID</th>\n",
       "      <th>Customer_ID</th>\n",
       "      <th>Month</th>\n",
       "      <th>Name</th>\n",
       "      <th>Age</th>\n",
       "      <th>SSN</th>\n",
       "      <th>Occupation</th>\n",
       "      <th>Annual_Income</th>\n",
       "      <th>Monthly_Inhand_Salary</th>\n",
       "      <th>Num_Bank_Accounts</th>\n",
       "      <th>...</th>\n",
       "      <th>Credit_Mix</th>\n",
       "      <th>Outstanding_Debt</th>\n",
       "      <th>Credit_Utilization_Ratio</th>\n",
       "      <th>Credit_History_Age</th>\n",
       "      <th>Payment_of_Min_Amount</th>\n",
       "      <th>Total_EMI_per_month</th>\n",
       "      <th>Amount_invested_monthly</th>\n",
       "      <th>Payment_Behaviour</th>\n",
       "      <th>Monthly_Balance</th>\n",
       "      <th>Credit_Score</th>\n",
       "    </tr>\n",
       "  </thead>\n",
       "  <tbody>\n",
       "    <tr>\n",
       "      <th>0</th>\n",
       "      <td>0x1602</td>\n",
       "      <td>CUS_0xd40</td>\n",
       "      <td>January</td>\n",
       "      <td>Aaron Maashoh</td>\n",
       "      <td>23</td>\n",
       "      <td>821-00-0265</td>\n",
       "      <td>Scientist</td>\n",
       "      <td>19114.12</td>\n",
       "      <td>1824.843333</td>\n",
       "      <td>3</td>\n",
       "      <td>...</td>\n",
       "      <td>_</td>\n",
       "      <td>809.98</td>\n",
       "      <td>26.822620</td>\n",
       "      <td>22 Years and 1 Months</td>\n",
       "      <td>No</td>\n",
       "      <td>49.574949</td>\n",
       "      <td>80.41529543900253</td>\n",
       "      <td>High_spent_Small_value_payments</td>\n",
       "      <td>312.49408867943663</td>\n",
       "      <td>Good</td>\n",
       "    </tr>\n",
       "    <tr>\n",
       "      <th>1</th>\n",
       "      <td>0x1603</td>\n",
       "      <td>CUS_0xd40</td>\n",
       "      <td>February</td>\n",
       "      <td>Aaron Maashoh</td>\n",
       "      <td>23</td>\n",
       "      <td>821-00-0265</td>\n",
       "      <td>Scientist</td>\n",
       "      <td>19114.12</td>\n",
       "      <td>NaN</td>\n",
       "      <td>3</td>\n",
       "      <td>...</td>\n",
       "      <td>Good</td>\n",
       "      <td>809.98</td>\n",
       "      <td>31.944960</td>\n",
       "      <td>NaN</td>\n",
       "      <td>No</td>\n",
       "      <td>49.574949</td>\n",
       "      <td>118.28022162236736</td>\n",
       "      <td>Low_spent_Large_value_payments</td>\n",
       "      <td>284.62916249607184</td>\n",
       "      <td>Good</td>\n",
       "    </tr>\n",
       "    <tr>\n",
       "      <th>2</th>\n",
       "      <td>0x1604</td>\n",
       "      <td>CUS_0xd40</td>\n",
       "      <td>March</td>\n",
       "      <td>Aaron Maashoh</td>\n",
       "      <td>-500</td>\n",
       "      <td>821-00-0265</td>\n",
       "      <td>Scientist</td>\n",
       "      <td>19114.12</td>\n",
       "      <td>NaN</td>\n",
       "      <td>3</td>\n",
       "      <td>...</td>\n",
       "      <td>Good</td>\n",
       "      <td>809.98</td>\n",
       "      <td>28.609352</td>\n",
       "      <td>22 Years and 3 Months</td>\n",
       "      <td>No</td>\n",
       "      <td>49.574949</td>\n",
       "      <td>81.699521264648</td>\n",
       "      <td>Low_spent_Medium_value_payments</td>\n",
       "      <td>331.2098628537912</td>\n",
       "      <td>Good</td>\n",
       "    </tr>\n",
       "    <tr>\n",
       "      <th>3</th>\n",
       "      <td>0x1605</td>\n",
       "      <td>CUS_0xd40</td>\n",
       "      <td>April</td>\n",
       "      <td>Aaron Maashoh</td>\n",
       "      <td>23</td>\n",
       "      <td>821-00-0265</td>\n",
       "      <td>Scientist</td>\n",
       "      <td>19114.12</td>\n",
       "      <td>NaN</td>\n",
       "      <td>3</td>\n",
       "      <td>...</td>\n",
       "      <td>Good</td>\n",
       "      <td>809.98</td>\n",
       "      <td>31.377862</td>\n",
       "      <td>22 Years and 4 Months</td>\n",
       "      <td>No</td>\n",
       "      <td>49.574949</td>\n",
       "      <td>199.4580743910713</td>\n",
       "      <td>Low_spent_Small_value_payments</td>\n",
       "      <td>223.45130972736786</td>\n",
       "      <td>Good</td>\n",
       "    </tr>\n",
       "    <tr>\n",
       "      <th>4</th>\n",
       "      <td>0x1606</td>\n",
       "      <td>CUS_0xd40</td>\n",
       "      <td>May</td>\n",
       "      <td>Aaron Maashoh</td>\n",
       "      <td>23</td>\n",
       "      <td>821-00-0265</td>\n",
       "      <td>Scientist</td>\n",
       "      <td>19114.12</td>\n",
       "      <td>1824.843333</td>\n",
       "      <td>3</td>\n",
       "      <td>...</td>\n",
       "      <td>Good</td>\n",
       "      <td>809.98</td>\n",
       "      <td>24.797347</td>\n",
       "      <td>22 Years and 5 Months</td>\n",
       "      <td>No</td>\n",
       "      <td>49.574949</td>\n",
       "      <td>41.420153086217326</td>\n",
       "      <td>High_spent_Medium_value_payments</td>\n",
       "      <td>341.48923103222177</td>\n",
       "      <td>Good</td>\n",
       "    </tr>\n",
       "    <tr>\n",
       "      <th>...</th>\n",
       "      <td>...</td>\n",
       "      <td>...</td>\n",
       "      <td>...</td>\n",
       "      <td>...</td>\n",
       "      <td>...</td>\n",
       "      <td>...</td>\n",
       "      <td>...</td>\n",
       "      <td>...</td>\n",
       "      <td>...</td>\n",
       "      <td>...</td>\n",
       "      <td>...</td>\n",
       "      <td>...</td>\n",
       "      <td>...</td>\n",
       "      <td>...</td>\n",
       "      <td>...</td>\n",
       "      <td>...</td>\n",
       "      <td>...</td>\n",
       "      <td>...</td>\n",
       "      <td>...</td>\n",
       "      <td>...</td>\n",
       "      <td>...</td>\n",
       "    </tr>\n",
       "    <tr>\n",
       "      <th>99995</th>\n",
       "      <td>0x25fe9</td>\n",
       "      <td>CUS_0x942c</td>\n",
       "      <td>April</td>\n",
       "      <td>Nicks</td>\n",
       "      <td>25</td>\n",
       "      <td>078-73-5990</td>\n",
       "      <td>Mechanic</td>\n",
       "      <td>39628.99</td>\n",
       "      <td>3359.415833</td>\n",
       "      <td>4</td>\n",
       "      <td>...</td>\n",
       "      <td>_</td>\n",
       "      <td>502.38</td>\n",
       "      <td>34.663572</td>\n",
       "      <td>31 Years and 6 Months</td>\n",
       "      <td>No</td>\n",
       "      <td>35.104023</td>\n",
       "      <td>60.97133255718485</td>\n",
       "      <td>High_spent_Large_value_payments</td>\n",
       "      <td>479.866228</td>\n",
       "      <td>Poor</td>\n",
       "    </tr>\n",
       "    <tr>\n",
       "      <th>99996</th>\n",
       "      <td>0x25fea</td>\n",
       "      <td>CUS_0x942c</td>\n",
       "      <td>May</td>\n",
       "      <td>Nicks</td>\n",
       "      <td>25</td>\n",
       "      <td>078-73-5990</td>\n",
       "      <td>Mechanic</td>\n",
       "      <td>39628.99</td>\n",
       "      <td>3359.415833</td>\n",
       "      <td>4</td>\n",
       "      <td>...</td>\n",
       "      <td>_</td>\n",
       "      <td>502.38</td>\n",
       "      <td>40.565631</td>\n",
       "      <td>31 Years and 7 Months</td>\n",
       "      <td>No</td>\n",
       "      <td>35.104023</td>\n",
       "      <td>54.18595028760385</td>\n",
       "      <td>High_spent_Medium_value_payments</td>\n",
       "      <td>496.65161</td>\n",
       "      <td>Poor</td>\n",
       "    </tr>\n",
       "    <tr>\n",
       "      <th>99997</th>\n",
       "      <td>0x25feb</td>\n",
       "      <td>CUS_0x942c</td>\n",
       "      <td>June</td>\n",
       "      <td>Nicks</td>\n",
       "      <td>25</td>\n",
       "      <td>078-73-5990</td>\n",
       "      <td>Mechanic</td>\n",
       "      <td>39628.99</td>\n",
       "      <td>3359.415833</td>\n",
       "      <td>4</td>\n",
       "      <td>...</td>\n",
       "      <td>Good</td>\n",
       "      <td>502.38</td>\n",
       "      <td>41.255522</td>\n",
       "      <td>31 Years and 8 Months</td>\n",
       "      <td>No</td>\n",
       "      <td>35.104023</td>\n",
       "      <td>24.02847744864441</td>\n",
       "      <td>High_spent_Large_value_payments</td>\n",
       "      <td>516.809083</td>\n",
       "      <td>Poor</td>\n",
       "    </tr>\n",
       "    <tr>\n",
       "      <th>99998</th>\n",
       "      <td>0x25fec</td>\n",
       "      <td>CUS_0x942c</td>\n",
       "      <td>July</td>\n",
       "      <td>Nicks</td>\n",
       "      <td>25</td>\n",
       "      <td>078-73-5990</td>\n",
       "      <td>Mechanic</td>\n",
       "      <td>39628.99</td>\n",
       "      <td>3359.415833</td>\n",
       "      <td>4</td>\n",
       "      <td>...</td>\n",
       "      <td>Good</td>\n",
       "      <td>502.38</td>\n",
       "      <td>33.638208</td>\n",
       "      <td>31 Years and 9 Months</td>\n",
       "      <td>No</td>\n",
       "      <td>35.104023</td>\n",
       "      <td>251.67258219721603</td>\n",
       "      <td>Low_spent_Large_value_payments</td>\n",
       "      <td>319.164979</td>\n",
       "      <td>Standard</td>\n",
       "    </tr>\n",
       "    <tr>\n",
       "      <th>99999</th>\n",
       "      <td>0x25fed</td>\n",
       "      <td>CUS_0x942c</td>\n",
       "      <td>August</td>\n",
       "      <td>Nicks</td>\n",
       "      <td>25</td>\n",
       "      <td>078-73-5990</td>\n",
       "      <td>Mechanic</td>\n",
       "      <td>39628.99_</td>\n",
       "      <td>3359.415833</td>\n",
       "      <td>4</td>\n",
       "      <td>...</td>\n",
       "      <td>Good</td>\n",
       "      <td>502.38</td>\n",
       "      <td>34.192463</td>\n",
       "      <td>31 Years and 10 Months</td>\n",
       "      <td>No</td>\n",
       "      <td>35.104023</td>\n",
       "      <td>167.1638651610451</td>\n",
       "      <td>!@9#%8</td>\n",
       "      <td>393.673696</td>\n",
       "      <td>Poor</td>\n",
       "    </tr>\n",
       "  </tbody>\n",
       "</table>\n",
       "<p>100000 rows × 28 columns</p>\n",
       "</div>"
      ],
      "text/plain": [
       "            ID Customer_ID     Month           Name   Age          SSN  \\\n",
       "0       0x1602   CUS_0xd40   January  Aaron Maashoh    23  821-00-0265   \n",
       "1       0x1603   CUS_0xd40  February  Aaron Maashoh    23  821-00-0265   \n",
       "2       0x1604   CUS_0xd40     March  Aaron Maashoh  -500  821-00-0265   \n",
       "3       0x1605   CUS_0xd40     April  Aaron Maashoh    23  821-00-0265   \n",
       "4       0x1606   CUS_0xd40       May  Aaron Maashoh    23  821-00-0265   \n",
       "...        ...         ...       ...            ...   ...          ...   \n",
       "99995  0x25fe9  CUS_0x942c     April          Nicks    25  078-73-5990   \n",
       "99996  0x25fea  CUS_0x942c       May          Nicks    25  078-73-5990   \n",
       "99997  0x25feb  CUS_0x942c      June          Nicks    25  078-73-5990   \n",
       "99998  0x25fec  CUS_0x942c      July          Nicks    25  078-73-5990   \n",
       "99999  0x25fed  CUS_0x942c    August          Nicks    25  078-73-5990   \n",
       "\n",
       "      Occupation Annual_Income  Monthly_Inhand_Salary  Num_Bank_Accounts  ...  \\\n",
       "0      Scientist      19114.12            1824.843333                  3  ...   \n",
       "1      Scientist      19114.12                    NaN                  3  ...   \n",
       "2      Scientist      19114.12                    NaN                  3  ...   \n",
       "3      Scientist      19114.12                    NaN                  3  ...   \n",
       "4      Scientist      19114.12            1824.843333                  3  ...   \n",
       "...          ...           ...                    ...                ...  ...   \n",
       "99995   Mechanic      39628.99            3359.415833                  4  ...   \n",
       "99996   Mechanic      39628.99            3359.415833                  4  ...   \n",
       "99997   Mechanic      39628.99            3359.415833                  4  ...   \n",
       "99998   Mechanic      39628.99            3359.415833                  4  ...   \n",
       "99999   Mechanic     39628.99_            3359.415833                  4  ...   \n",
       "\n",
       "       Credit_Mix  Outstanding_Debt Credit_Utilization_Ratio  \\\n",
       "0               _            809.98                26.822620   \n",
       "1            Good            809.98                31.944960   \n",
       "2            Good            809.98                28.609352   \n",
       "3            Good            809.98                31.377862   \n",
       "4            Good            809.98                24.797347   \n",
       "...           ...               ...                      ...   \n",
       "99995           _            502.38                34.663572   \n",
       "99996           _            502.38                40.565631   \n",
       "99997        Good            502.38                41.255522   \n",
       "99998        Good            502.38                33.638208   \n",
       "99999        Good            502.38                34.192463   \n",
       "\n",
       "           Credit_History_Age  Payment_of_Min_Amount Total_EMI_per_month  \\\n",
       "0       22 Years and 1 Months                     No           49.574949   \n",
       "1                         NaN                     No           49.574949   \n",
       "2       22 Years and 3 Months                     No           49.574949   \n",
       "3       22 Years and 4 Months                     No           49.574949   \n",
       "4       22 Years and 5 Months                     No           49.574949   \n",
       "...                       ...                    ...                 ...   \n",
       "99995   31 Years and 6 Months                     No           35.104023   \n",
       "99996   31 Years and 7 Months                     No           35.104023   \n",
       "99997   31 Years and 8 Months                     No           35.104023   \n",
       "99998   31 Years and 9 Months                     No           35.104023   \n",
       "99999  31 Years and 10 Months                     No           35.104023   \n",
       "\n",
       "      Amount_invested_monthly                 Payment_Behaviour  \\\n",
       "0           80.41529543900253   High_spent_Small_value_payments   \n",
       "1          118.28022162236736    Low_spent_Large_value_payments   \n",
       "2             81.699521264648   Low_spent_Medium_value_payments   \n",
       "3           199.4580743910713    Low_spent_Small_value_payments   \n",
       "4          41.420153086217326  High_spent_Medium_value_payments   \n",
       "...                       ...                               ...   \n",
       "99995       60.97133255718485   High_spent_Large_value_payments   \n",
       "99996       54.18595028760385  High_spent_Medium_value_payments   \n",
       "99997       24.02847744864441   High_spent_Large_value_payments   \n",
       "99998      251.67258219721603    Low_spent_Large_value_payments   \n",
       "99999       167.1638651610451                            !@9#%8   \n",
       "\n",
       "          Monthly_Balance Credit_Score  \n",
       "0      312.49408867943663         Good  \n",
       "1      284.62916249607184         Good  \n",
       "2       331.2098628537912         Good  \n",
       "3      223.45130972736786         Good  \n",
       "4      341.48923103222177         Good  \n",
       "...                   ...          ...  \n",
       "99995          479.866228         Poor  \n",
       "99996           496.65161         Poor  \n",
       "99997          516.809083         Poor  \n",
       "99998          319.164979     Standard  \n",
       "99999          393.673696         Poor  \n",
       "\n",
       "[100000 rows x 28 columns]"
      ]
     },
     "execution_count": 2,
     "metadata": {},
     "output_type": "execute_result"
    }
   ],
   "source": [
    "df = pd.read_csv(\"train.csv\")\n",
    "df"
   ]
  },
  {
   "cell_type": "code",
   "execution_count": 3,
   "metadata": {},
   "outputs": [
    {
     "name": "stdout",
     "output_type": "stream",
     "text": [
      "<class 'pandas.core.frame.DataFrame'>\n",
      "RangeIndex: 100000 entries, 0 to 99999\n",
      "Data columns (total 28 columns):\n",
      " #   Column                    Non-Null Count   Dtype  \n",
      "---  ------                    --------------   -----  \n",
      " 0   ID                        100000 non-null  object \n",
      " 1   Customer_ID               100000 non-null  object \n",
      " 2   Month                     100000 non-null  object \n",
      " 3   Name                      90015 non-null   object \n",
      " 4   Age                       100000 non-null  object \n",
      " 5   SSN                       100000 non-null  object \n",
      " 6   Occupation                100000 non-null  object \n",
      " 7   Annual_Income             100000 non-null  object \n",
      " 8   Monthly_Inhand_Salary     84998 non-null   float64\n",
      " 9   Num_Bank_Accounts         100000 non-null  int64  \n",
      " 10  Num_Credit_Card           100000 non-null  int64  \n",
      " 11  Interest_Rate             100000 non-null  int64  \n",
      " 12  Num_of_Loan               100000 non-null  object \n",
      " 13  Type_of_Loan              88592 non-null   object \n",
      " 14  Delay_from_due_date       100000 non-null  int64  \n",
      " 15  Num_of_Delayed_Payment    92998 non-null   object \n",
      " 16  Changed_Credit_Limit      100000 non-null  object \n",
      " 17  Num_Credit_Inquiries      98035 non-null   float64\n",
      " 18  Credit_Mix                100000 non-null  object \n",
      " 19  Outstanding_Debt          100000 non-null  object \n",
      " 20  Credit_Utilization_Ratio  100000 non-null  float64\n",
      " 21  Credit_History_Age        90970 non-null   object \n",
      " 22  Payment_of_Min_Amount     100000 non-null  object \n",
      " 23  Total_EMI_per_month       100000 non-null  float64\n",
      " 24  Amount_invested_monthly   95521 non-null   object \n",
      " 25  Payment_Behaviour         100000 non-null  object \n",
      " 26  Monthly_Balance           98800 non-null   object \n",
      " 27  Credit_Score              100000 non-null  object \n",
      "dtypes: float64(4), int64(4), object(20)\n",
      "memory usage: 21.4+ MB\n"
     ]
    }
   ],
   "source": [
    "df.info()"
   ]
  },
  {
   "cell_type": "code",
   "execution_count": 4,
   "metadata": {
    "colab": {
     "base_uri": "https://localhost:8080/",
     "height": 300
    },
    "id": "Xk-NTYZyAymn",
    "outputId": "d6ccf3da-6c7b-4851-b1db-66420e406b61"
   },
   "outputs": [
    {
     "data": {
      "text/html": [
       "<div>\n",
       "<style scoped>\n",
       "    .dataframe tbody tr th:only-of-type {\n",
       "        vertical-align: middle;\n",
       "    }\n",
       "\n",
       "    .dataframe tbody tr th {\n",
       "        vertical-align: top;\n",
       "    }\n",
       "\n",
       "    .dataframe thead th {\n",
       "        text-align: right;\n",
       "    }\n",
       "</style>\n",
       "<table border=\"1\" class=\"dataframe\">\n",
       "  <thead>\n",
       "    <tr style=\"text-align: right;\">\n",
       "      <th></th>\n",
       "      <th>Monthly_Inhand_Salary</th>\n",
       "      <th>Num_Bank_Accounts</th>\n",
       "      <th>Num_Credit_Card</th>\n",
       "      <th>Interest_Rate</th>\n",
       "      <th>Delay_from_due_date</th>\n",
       "      <th>Num_Credit_Inquiries</th>\n",
       "      <th>Credit_Utilization_Ratio</th>\n",
       "      <th>Total_EMI_per_month</th>\n",
       "    </tr>\n",
       "  </thead>\n",
       "  <tbody>\n",
       "    <tr>\n",
       "      <th>count</th>\n",
       "      <td>84998.000000</td>\n",
       "      <td>100000.000000</td>\n",
       "      <td>100000.00000</td>\n",
       "      <td>100000.000000</td>\n",
       "      <td>100000.000000</td>\n",
       "      <td>98035.000000</td>\n",
       "      <td>100000.000000</td>\n",
       "      <td>100000.000000</td>\n",
       "    </tr>\n",
       "    <tr>\n",
       "      <th>mean</th>\n",
       "      <td>4194.170850</td>\n",
       "      <td>17.091280</td>\n",
       "      <td>22.47443</td>\n",
       "      <td>72.466040</td>\n",
       "      <td>21.068780</td>\n",
       "      <td>27.754251</td>\n",
       "      <td>32.285173</td>\n",
       "      <td>1403.118217</td>\n",
       "    </tr>\n",
       "    <tr>\n",
       "      <th>std</th>\n",
       "      <td>3183.686167</td>\n",
       "      <td>117.404834</td>\n",
       "      <td>129.05741</td>\n",
       "      <td>466.422621</td>\n",
       "      <td>14.860104</td>\n",
       "      <td>193.177339</td>\n",
       "      <td>5.116875</td>\n",
       "      <td>8306.041270</td>\n",
       "    </tr>\n",
       "    <tr>\n",
       "      <th>min</th>\n",
       "      <td>303.645417</td>\n",
       "      <td>-1.000000</td>\n",
       "      <td>0.00000</td>\n",
       "      <td>1.000000</td>\n",
       "      <td>-5.000000</td>\n",
       "      <td>0.000000</td>\n",
       "      <td>20.000000</td>\n",
       "      <td>0.000000</td>\n",
       "    </tr>\n",
       "    <tr>\n",
       "      <th>25%</th>\n",
       "      <td>1625.568229</td>\n",
       "      <td>3.000000</td>\n",
       "      <td>4.00000</td>\n",
       "      <td>8.000000</td>\n",
       "      <td>10.000000</td>\n",
       "      <td>3.000000</td>\n",
       "      <td>28.052567</td>\n",
       "      <td>30.306660</td>\n",
       "    </tr>\n",
       "    <tr>\n",
       "      <th>50%</th>\n",
       "      <td>3093.745000</td>\n",
       "      <td>6.000000</td>\n",
       "      <td>5.00000</td>\n",
       "      <td>13.000000</td>\n",
       "      <td>18.000000</td>\n",
       "      <td>6.000000</td>\n",
       "      <td>32.305784</td>\n",
       "      <td>69.249473</td>\n",
       "    </tr>\n",
       "    <tr>\n",
       "      <th>75%</th>\n",
       "      <td>5957.448333</td>\n",
       "      <td>7.000000</td>\n",
       "      <td>7.00000</td>\n",
       "      <td>20.000000</td>\n",
       "      <td>28.000000</td>\n",
       "      <td>9.000000</td>\n",
       "      <td>36.496663</td>\n",
       "      <td>161.224249</td>\n",
       "    </tr>\n",
       "    <tr>\n",
       "      <th>max</th>\n",
       "      <td>15204.633333</td>\n",
       "      <td>1798.000000</td>\n",
       "      <td>1499.00000</td>\n",
       "      <td>5797.000000</td>\n",
       "      <td>67.000000</td>\n",
       "      <td>2597.000000</td>\n",
       "      <td>50.000000</td>\n",
       "      <td>82331.000000</td>\n",
       "    </tr>\n",
       "  </tbody>\n",
       "</table>\n",
       "</div>"
      ],
      "text/plain": [
       "       Monthly_Inhand_Salary  Num_Bank_Accounts  Num_Credit_Card  \\\n",
       "count           84998.000000      100000.000000     100000.00000   \n",
       "mean             4194.170850          17.091280         22.47443   \n",
       "std              3183.686167         117.404834        129.05741   \n",
       "min               303.645417          -1.000000          0.00000   \n",
       "25%              1625.568229           3.000000          4.00000   \n",
       "50%              3093.745000           6.000000          5.00000   \n",
       "75%              5957.448333           7.000000          7.00000   \n",
       "max             15204.633333        1798.000000       1499.00000   \n",
       "\n",
       "       Interest_Rate  Delay_from_due_date  Num_Credit_Inquiries  \\\n",
       "count  100000.000000        100000.000000          98035.000000   \n",
       "mean       72.466040            21.068780             27.754251   \n",
       "std       466.422621            14.860104            193.177339   \n",
       "min         1.000000            -5.000000              0.000000   \n",
       "25%         8.000000            10.000000              3.000000   \n",
       "50%        13.000000            18.000000              6.000000   \n",
       "75%        20.000000            28.000000              9.000000   \n",
       "max      5797.000000            67.000000           2597.000000   \n",
       "\n",
       "       Credit_Utilization_Ratio  Total_EMI_per_month  \n",
       "count             100000.000000        100000.000000  \n",
       "mean                  32.285173          1403.118217  \n",
       "std                    5.116875          8306.041270  \n",
       "min                   20.000000             0.000000  \n",
       "25%                   28.052567            30.306660  \n",
       "50%                   32.305784            69.249473  \n",
       "75%                   36.496663           161.224249  \n",
       "max                   50.000000         82331.000000  "
      ]
     },
     "execution_count": 4,
     "metadata": {},
     "output_type": "execute_result"
    }
   ],
   "source": [
    "df.describe()"
   ]
  },
  {
   "cell_type": "code",
   "execution_count": 5,
   "metadata": {
    "colab": {
     "base_uri": "https://localhost:8080/"
    },
    "id": "kbIjkLJ6A-FW",
    "outputId": "7f6cae3d-cdd3-484b-e4ed-5fceedb7851c"
   },
   "outputs": [
    {
     "name": "stdout",
     "output_type": "stream",
     "text": [
      "Index(['ID', 'Customer_ID', 'Month', 'Name', 'Age', 'SSN', 'Occupation',\n",
      "       'Annual_Income', 'Monthly_Inhand_Salary', 'Num_Bank_Accounts',\n",
      "       'Num_Credit_Card', 'Interest_Rate', 'Num_of_Loan', 'Type_of_Loan',\n",
      "       'Delay_from_due_date', 'Num_of_Delayed_Payment', 'Changed_Credit_Limit',\n",
      "       'Num_Credit_Inquiries', 'Credit_Mix', 'Outstanding_Debt',\n",
      "       'Credit_Utilization_Ratio', 'Credit_History_Age',\n",
      "       'Payment_of_Min_Amount', 'Total_EMI_per_month',\n",
      "       'Amount_invested_monthly', 'Payment_Behaviour', 'Monthly_Balance',\n",
      "       'Credit_Score'],\n",
      "      dtype='object')\n"
     ]
    }
   ],
   "source": [
    "print(df.columns)"
   ]
  },
  {
   "cell_type": "markdown",
   "metadata": {
    "id": "N8zDDi2X_bC-"
   },
   "source": [
    "* ID - Представляет уникальную идентификацию записи,\n",
    "\n",
    "* Customer_ID - Представляет собой уникальную идентификацию клиента,\n",
    "\n",
    "* Month - месяц взятия кредита,\n",
    "\n",
    "* Name - имя клиента,\n",
    "\n",
    "* Age - возраст клиента,\n",
    "\n",
    "* SSN - номер социального страхования клиента,\n",
    "\n",
    "* Occupation - профессия клиента,\n",
    "\n",
    "* Annual_Income - Годовой доход клиента,\n",
    "\n",
    "* Monthly_Inhand_Salary - ежемесячная базовая зарплата клиента,\n",
    "\n",
    "* Num_Bank_Accounts - количество банковских счетов, которыми владеет клиент,\n",
    "\n",
    "* Num_Credit_Card - номер кредитной карты клиента,\n",
    "\n",
    "* Interest_Rate - процентная ставка по кредитной карте,\n",
    "\n",
    "* Num_of_Loan - количество кредитов, взятых в банке,\n",
    "\n",
    "* Type_of_Loan - типы кредитов, взятых клиентом,\n",
    "\n",
    "* Delay_from_due_date - среднее количе\n",
    "\n",
    "* Num_of_Delayed_Payment - среднее количество платежей, задержанных человеком,\n",
    "\n",
    "* Changed_Credit_Limit - процентное изменение лимита кредитной карты,\n",
    "\n",
    "* Num_Credit_Inquiries - количество запросов по кредитным картам,\n",
    "\n",
    "* Credit_Mix - классификация набора кредитов,\n",
    "\n",
    "* Outstanding_Debt - оставшийся долг, подлежащий выплате,\n",
    "\n",
    "* Credit_Utilization_Ratio - коэффициент использования кредитной карты,\n",
    "\n",
    "* Credit_History_Age - возраст кредитной истории лица,\n",
    "\n",
    "* Payment_of_Min_Amount - была ли выплачена лицом только минимальная сумма,\n",
    "\n",
    "* Total_EMI_per_month - ежемесячные платежи EMI (в долларах США),\n",
    "\n",
    "* Amount_invested_monthly - ежемесячная сумма, инвестированная клиентом (в долларах США),\n",
    "\n",
    "* Payment_Behaviour - платехное поведение клиента,\n",
    "\n",
    "* Monthly_Balance - ежемесячный баланс клиента,\n",
    "\n",
    "* Credit_Score - кредитный рейтинг."
   ]
  },
  {
   "cell_type": "code",
   "execution_count": 6,
   "metadata": {
    "colab": {
     "base_uri": "https://localhost:8080/"
    },
    "id": "ZLYTkWA-Oa6B",
    "outputId": "4c5a54ca-6add-4ec0-d3f0-1412b3d91cfb"
   },
   "outputs": [
    {
     "data": {
      "text/plain": [
       "ID                          100000\n",
       "Customer_ID                  12500\n",
       "Month                            8\n",
       "Name                         10139\n",
       "Age                           1788\n",
       "SSN                          12501\n",
       "Occupation                      16\n",
       "Annual_Income                18940\n",
       "Monthly_Inhand_Salary        13235\n",
       "Num_Bank_Accounts              943\n",
       "Num_Credit_Card               1179\n",
       "Interest_Rate                 1750\n",
       "Num_of_Loan                    434\n",
       "Type_of_Loan                  6260\n",
       "Delay_from_due_date             73\n",
       "Num_of_Delayed_Payment         749\n",
       "Changed_Credit_Limit          4384\n",
       "Num_Credit_Inquiries          1223\n",
       "Credit_Mix                       4\n",
       "Outstanding_Debt             13178\n",
       "Credit_Utilization_Ratio    100000\n",
       "Credit_History_Age             404\n",
       "Payment_of_Min_Amount            3\n",
       "Total_EMI_per_month          14950\n",
       "Amount_invested_monthly      91049\n",
       "Payment_Behaviour                7\n",
       "Monthly_Balance              98792\n",
       "Credit_Score                     3\n",
       "dtype: int64"
      ]
     },
     "execution_count": 6,
     "metadata": {},
     "output_type": "execute_result"
    }
   ],
   "source": [
    "df.nunique()"
   ]
  },
  {
   "cell_type": "markdown",
   "metadata": {
    "id": "0D7kif44PB2s"
   },
   "source": [
    "## Проверим количество пропущенных значений для каждой колонны:"
   ]
  },
  {
   "cell_type": "code",
   "execution_count": 7,
   "metadata": {
    "colab": {
     "base_uri": "https://localhost:8080/"
    },
    "id": "WA6wuT7oPG_m",
    "outputId": "6fb4ce17-c196-400b-dc18-b313a07b3f0c"
   },
   "outputs": [
    {
     "data": {
      "text/plain": [
       "ID                              0\n",
       "Customer_ID                     0\n",
       "Month                           0\n",
       "Name                         9985\n",
       "Age                             0\n",
       "SSN                             0\n",
       "Occupation                      0\n",
       "Annual_Income                   0\n",
       "Monthly_Inhand_Salary       15002\n",
       "Num_Bank_Accounts               0\n",
       "Num_Credit_Card                 0\n",
       "Interest_Rate                   0\n",
       "Num_of_Loan                     0\n",
       "Type_of_Loan                11408\n",
       "Delay_from_due_date             0\n",
       "Num_of_Delayed_Payment       7002\n",
       "Changed_Credit_Limit            0\n",
       "Num_Credit_Inquiries         1965\n",
       "Credit_Mix                      0\n",
       "Outstanding_Debt                0\n",
       "Credit_Utilization_Ratio        0\n",
       "Credit_History_Age           9030\n",
       "Payment_of_Min_Amount           0\n",
       "Total_EMI_per_month             0\n",
       "Amount_invested_monthly      4479\n",
       "Payment_Behaviour               0\n",
       "Monthly_Balance              1200\n",
       "Credit_Score                    0\n",
       "dtype: int64"
      ]
     },
     "execution_count": 7,
     "metadata": {},
     "output_type": "execute_result"
    }
   ],
   "source": [
    "df.isna().sum()"
   ]
  },
  {
   "cell_type": "markdown",
   "metadata": {
    "id": "4J_fWiRNPwfO"
   },
   "source": [
    "## Процент пропущенных полей:"
   ]
  },
  {
   "cell_type": "code",
   "execution_count": 8,
   "metadata": {
    "colab": {
     "base_uri": "https://localhost:8080/"
    },
    "id": "GES9q6f6Py3w",
    "outputId": "892b9fba-cc29-4170-ae0b-6b15023962e0"
   },
   "outputs": [
    {
     "data": {
      "text/plain": [
       "2.1453928571428573"
      ]
     },
     "execution_count": 8,
     "metadata": {},
     "output_type": "execute_result"
    }
   ],
   "source": [
    "df.isna().sum().sum() / (len(df) * len(df.columns)) * 100"
   ]
  },
  {
   "cell_type": "markdown",
   "metadata": {
    "id": "U46wLWb9Q9OX"
   },
   "source": [
    "## Количество элементов в каждом классе:"
   ]
  },
  {
   "cell_type": "code",
   "execution_count": 9,
   "metadata": {
    "colab": {
     "base_uri": "https://localhost:8080/"
    },
    "id": "k1SNCaYtQtE1",
    "outputId": "d9216659-fbc0-4eb4-82de-32079016fd8f"
   },
   "outputs": [
    {
     "data": {
      "text/plain": [
       "Credit_Score\n",
       "Standard    53174\n",
       "Poor        28998\n",
       "Good        17828\n",
       "Name: count, dtype: int64"
      ]
     },
     "execution_count": 9,
     "metadata": {},
     "output_type": "execute_result"
    }
   ],
   "source": [
    "df['Credit_Score'].value_counts()"
   ]
  },
  {
   "cell_type": "markdown",
   "metadata": {
    "id": "PDK4G1gIT5Ox"
   },
   "source": [
    "# Исключим ненужные данные"
   ]
  },
  {
   "cell_type": "code",
   "execution_count": 10,
   "metadata": {
    "id": "NFh1Ee-dSMlC"
   },
   "outputs": [],
   "source": [
    "df_reduced = df.drop(['ID', 'Customer_ID', 'Name', 'SSN'], axis=1)"
   ]
  },
  {
   "cell_type": "code",
   "execution_count": 11,
   "metadata": {
    "colab": {
     "base_uri": "https://localhost:8080/"
    },
    "id": "wzcVMAlaUD3V",
    "outputId": "357c0365-b2b1-4569-e42c-e1fbe146213a"
   },
   "outputs": [
    {
     "name": "stdout",
     "output_type": "stream",
     "text": [
      "Index(['Month', 'Age', 'Occupation', 'Annual_Income', 'Monthly_Inhand_Salary',\n",
      "       'Num_Bank_Accounts', 'Num_Credit_Card', 'Interest_Rate', 'Num_of_Loan',\n",
      "       'Type_of_Loan', 'Delay_from_due_date', 'Num_of_Delayed_Payment',\n",
      "       'Changed_Credit_Limit', 'Num_Credit_Inquiries', 'Credit_Mix',\n",
      "       'Outstanding_Debt', 'Credit_Utilization_Ratio', 'Credit_History_Age',\n",
      "       'Payment_of_Min_Amount', 'Total_EMI_per_month',\n",
      "       'Amount_invested_monthly', 'Payment_Behaviour', 'Monthly_Balance',\n",
      "       'Credit_Score'],\n",
      "      dtype='object')\n",
      "len:  24\n"
     ]
    }
   ],
   "source": [
    "print(df_reduced.columns)\n",
    "print('len: ', len(df_reduced.columns))"
   ]
  },
  {
   "cell_type": "code",
   "execution_count": 12,
   "metadata": {
    "id": "_l5qlZZiUn1A"
   },
   "outputs": [],
   "source": [
    "df_reduced = df_reduced.applymap(\n",
    "  lambda x: x if x is np.NaN or not \\\n",
    "    isinstance(x, str) else str(x).strip('_')).replace(['', 'nan', '!@9#%8', '#F%$D@*&8'], np.NaN)"
   ]
  },
  {
   "cell_type": "code",
   "execution_count": 13,
   "metadata": {
    "colab": {
     "base_uri": "https://localhost:8080/"
    },
    "id": "dkyY3fTPUyaa",
    "outputId": "6cce52ae-52ae-4cdd-9582-76e7b36a2f0c"
   },
   "outputs": [
    {
     "name": "stdout",
     "output_type": "stream",
     "text": [
      "<class 'pandas.core.frame.DataFrame'>\n",
      "RangeIndex: 100000 entries, 0 to 99999\n",
      "Data columns (total 24 columns):\n",
      " #   Column                    Non-Null Count   Dtype  \n",
      "---  ------                    --------------   -----  \n",
      " 0   Month                     100000 non-null  object \n",
      " 1   Age                       100000 non-null  object \n",
      " 2   Occupation                92938 non-null   object \n",
      " 3   Annual_Income             100000 non-null  object \n",
      " 4   Monthly_Inhand_Salary     84998 non-null   float64\n",
      " 5   Num_Bank_Accounts         100000 non-null  int64  \n",
      " 6   Num_Credit_Card           100000 non-null  int64  \n",
      " 7   Interest_Rate             100000 non-null  int64  \n",
      " 8   Num_of_Loan               100000 non-null  object \n",
      " 9   Type_of_Loan              88592 non-null   object \n",
      " 10  Delay_from_due_date       100000 non-null  int64  \n",
      " 11  Num_of_Delayed_Payment    92998 non-null   object \n",
      " 12  Changed_Credit_Limit      97909 non-null   object \n",
      " 13  Num_Credit_Inquiries      98035 non-null   float64\n",
      " 14  Credit_Mix                79805 non-null   object \n",
      " 15  Outstanding_Debt          100000 non-null  object \n",
      " 16  Credit_Utilization_Ratio  100000 non-null  float64\n",
      " 17  Credit_History_Age        90970 non-null   object \n",
      " 18  Payment_of_Min_Amount     100000 non-null  object \n",
      " 19  Total_EMI_per_month       100000 non-null  float64\n",
      " 20  Amount_invested_monthly   95521 non-null   object \n",
      " 21  Payment_Behaviour         92400 non-null   object \n",
      " 22  Monthly_Balance           98800 non-null   object \n",
      " 23  Credit_Score              100000 non-null  object \n",
      "dtypes: float64(4), int64(4), object(16)\n",
      "memory usage: 18.3+ MB\n"
     ]
    }
   ],
   "source": [
    "df = df_reduced\n",
    "df.info()"
   ]
  },
  {
   "cell_type": "code",
   "execution_count": 14,
   "metadata": {
    "id": "vCTJ2_Y_g9pM"
   },
   "outputs": [],
   "source": [
    "df['Age'] = df['Age'].astype(int)\n",
    "df['Annual_Income'] = df['Annual_Income'].astype(float)\n",
    "df['Num_of_Loan'] = df['Num_of_Loan'].astype(int)\n",
    "df['Num_of_Delayed_Payment'] = df['Num_of_Delayed_Payment'].astype(float)\n",
    "df['Changed_Credit_Limit'] = df['Changed_Credit_Limit'].astype(float)\n",
    "df['Outstanding_Debt'] = df['Outstanding_Debt'].astype(float)\n",
    "df['Amount_invested_monthly'] = df['Amount_invested_monthly'].astype(float)\n",
    "df['Monthly_Balance'] = df['Monthly_Balance'].astype(float)"
   ]
  },
  {
   "cell_type": "markdown",
   "metadata": {
    "id": "yrzCMnnyX6AQ"
   },
   "source": [
    "# Избавляемся от выбросов"
   ]
  },
  {
   "cell_type": "code",
   "execution_count": 15,
   "metadata": {
    "colab": {
     "base_uri": "https://localhost:8080/",
     "height": 364
    },
    "id": "2pVYO28aX5r_",
    "outputId": "f8c2d521-4966-4ce2-a0ce-4a4ceb104a38"
   },
   "outputs": [
    {
     "data": {
      "text/html": [
       "<div>\n",
       "<style scoped>\n",
       "    .dataframe tbody tr th:only-of-type {\n",
       "        vertical-align: middle;\n",
       "    }\n",
       "\n",
       "    .dataframe tbody tr th {\n",
       "        vertical-align: top;\n",
       "    }\n",
       "\n",
       "    .dataframe thead th {\n",
       "        text-align: right;\n",
       "    }\n",
       "</style>\n",
       "<table border=\"1\" class=\"dataframe\">\n",
       "  <thead>\n",
       "    <tr style=\"text-align: right;\">\n",
       "      <th></th>\n",
       "      <th>Age</th>\n",
       "      <th>Annual_Income</th>\n",
       "      <th>Monthly_Inhand_Salary</th>\n",
       "      <th>Num_Bank_Accounts</th>\n",
       "      <th>Num_Credit_Card</th>\n",
       "      <th>Interest_Rate</th>\n",
       "      <th>Num_of_Loan</th>\n",
       "      <th>Delay_from_due_date</th>\n",
       "      <th>Num_of_Delayed_Payment</th>\n",
       "      <th>Changed_Credit_Limit</th>\n",
       "      <th>Num_Credit_Inquiries</th>\n",
       "      <th>Outstanding_Debt</th>\n",
       "      <th>Credit_Utilization_Ratio</th>\n",
       "      <th>Total_EMI_per_month</th>\n",
       "      <th>Amount_invested_monthly</th>\n",
       "      <th>Monthly_Balance</th>\n",
       "    </tr>\n",
       "  </thead>\n",
       "  <tbody>\n",
       "    <tr>\n",
       "      <th>count</th>\n",
       "      <td>87887.000000</td>\n",
       "      <td>8.788700e+04</td>\n",
       "      <td>74725.000000</td>\n",
       "      <td>87887.000000</td>\n",
       "      <td>87887.000000</td>\n",
       "      <td>87887.000000</td>\n",
       "      <td>87887.000000</td>\n",
       "      <td>87887.000000</td>\n",
       "      <td>81681.000000</td>\n",
       "      <td>86062.000000</td>\n",
       "      <td>86168.000000</td>\n",
       "      <td>87887.000000</td>\n",
       "      <td>87887.000000</td>\n",
       "      <td>87887.000000</td>\n",
       "      <td>83978.000000</td>\n",
       "      <td>86799.000000</td>\n",
       "    </tr>\n",
       "    <tr>\n",
       "      <th>mean</th>\n",
       "      <td>33.291454</td>\n",
       "      <td>8.384062e+04</td>\n",
       "      <td>4147.281226</td>\n",
       "      <td>9.954510</td>\n",
       "      <td>15.891588</td>\n",
       "      <td>47.359257</td>\n",
       "      <td>3.541673</td>\n",
       "      <td>21.161935</td>\n",
       "      <td>16.043058</td>\n",
       "      <td>10.427116</td>\n",
       "      <td>16.756012</td>\n",
       "      <td>1429.441580</td>\n",
       "      <td>32.256829</td>\n",
       "      <td>1030.521043</td>\n",
       "      <td>632.387777</td>\n",
       "      <td>399.572241</td>\n",
       "    </tr>\n",
       "    <tr>\n",
       "      <th>std</th>\n",
       "      <td>10.777875</td>\n",
       "      <td>5.490343e+05</td>\n",
       "      <td>3111.906500</td>\n",
       "      <td>57.897614</td>\n",
       "      <td>89.281871</td>\n",
       "      <td>303.591315</td>\n",
       "      <td>2.442501</td>\n",
       "      <td>14.842033</td>\n",
       "      <td>55.441798</td>\n",
       "      <td>6.800461</td>\n",
       "      <td>114.510164</td>\n",
       "      <td>1156.340109</td>\n",
       "      <td>5.091133</td>\n",
       "      <td>6431.031843</td>\n",
       "      <td>2035.819678</td>\n",
       "      <td>202.531607</td>\n",
       "    </tr>\n",
       "    <tr>\n",
       "      <th>min</th>\n",
       "      <td>14.000000</td>\n",
       "      <td>7.230615e+03</td>\n",
       "      <td>319.556250</td>\n",
       "      <td>0.000000</td>\n",
       "      <td>1.000000</td>\n",
       "      <td>1.000000</td>\n",
       "      <td>0.000000</td>\n",
       "      <td>-5.000000</td>\n",
       "      <td>0.000000</td>\n",
       "      <td>-6.480000</td>\n",
       "      <td>0.000000</td>\n",
       "      <td>0.230000</td>\n",
       "      <td>20.000000</td>\n",
       "      <td>0.000000</td>\n",
       "      <td>0.000000</td>\n",
       "      <td>38.009577</td>\n",
       "    </tr>\n",
       "    <tr>\n",
       "      <th>25%</th>\n",
       "      <td>24.000000</td>\n",
       "      <td>1.942803e+04</td>\n",
       "      <td>1628.144167</td>\n",
       "      <td>4.000000</td>\n",
       "      <td>4.000000</td>\n",
       "      <td>8.000000</td>\n",
       "      <td>2.000000</td>\n",
       "      <td>10.000000</td>\n",
       "      <td>9.000000</td>\n",
       "      <td>5.360000</td>\n",
       "      <td>3.000000</td>\n",
       "      <td>566.980000</td>\n",
       "      <td>28.046211</td>\n",
       "      <td>30.519958</td>\n",
       "      <td>74.664738</td>\n",
       "      <td>270.670585</td>\n",
       "    </tr>\n",
       "    <tr>\n",
       "      <th>50%</th>\n",
       "      <td>33.000000</td>\n",
       "      <td>3.696676e+04</td>\n",
       "      <td>3074.806667</td>\n",
       "      <td>6.000000</td>\n",
       "      <td>5.000000</td>\n",
       "      <td>13.000000</td>\n",
       "      <td>3.000000</td>\n",
       "      <td>18.000000</td>\n",
       "      <td>14.000000</td>\n",
       "      <td>9.440000</td>\n",
       "      <td>6.000000</td>\n",
       "      <td>1168.420000</td>\n",
       "      <td>32.272919</td>\n",
       "      <td>68.731992</td>\n",
       "      <td>135.215412</td>\n",
       "      <td>337.122196</td>\n",
       "    </tr>\n",
       "    <tr>\n",
       "      <th>75%</th>\n",
       "      <td>42.000000</td>\n",
       "      <td>7.160812e+04</td>\n",
       "      <td>5909.096667</td>\n",
       "      <td>7.000000</td>\n",
       "      <td>7.000000</td>\n",
       "      <td>20.000000</td>\n",
       "      <td>5.000000</td>\n",
       "      <td>28.000000</td>\n",
       "      <td>18.000000</td>\n",
       "      <td>14.950000</td>\n",
       "      <td>9.000000</td>\n",
       "      <td>1954.620000</td>\n",
       "      <td>36.476546</td>\n",
       "      <td>158.038909</td>\n",
       "      <td>262.858076</td>\n",
       "      <td>467.753519</td>\n",
       "    </tr>\n",
       "    <tr>\n",
       "      <th>max</th>\n",
       "      <td>99.000000</td>\n",
       "      <td>1.292080e+07</td>\n",
       "      <td>15204.633333</td>\n",
       "      <td>1096.000000</td>\n",
       "      <td>1177.000000</td>\n",
       "      <td>4311.000000</td>\n",
       "      <td>9.000000</td>\n",
       "      <td>67.000000</td>\n",
       "      <td>1732.000000</td>\n",
       "      <td>36.490000</td>\n",
       "      <td>1820.000000</td>\n",
       "      <td>4998.070000</td>\n",
       "      <td>47.480752</td>\n",
       "      <td>68937.000000</td>\n",
       "      <td>10000.000000</td>\n",
       "      <td>1235.389758</td>\n",
       "    </tr>\n",
       "  </tbody>\n",
       "</table>\n",
       "</div>"
      ],
      "text/plain": [
       "                Age  Annual_Income  Monthly_Inhand_Salary  Num_Bank_Accounts  \\\n",
       "count  87887.000000   8.788700e+04           74725.000000       87887.000000   \n",
       "mean      33.291454   8.384062e+04            4147.281226           9.954510   \n",
       "std       10.777875   5.490343e+05            3111.906500          57.897614   \n",
       "min       14.000000   7.230615e+03             319.556250           0.000000   \n",
       "25%       24.000000   1.942803e+04            1628.144167           4.000000   \n",
       "50%       33.000000   3.696676e+04            3074.806667           6.000000   \n",
       "75%       42.000000   7.160812e+04            5909.096667           7.000000   \n",
       "max       99.000000   1.292080e+07           15204.633333        1096.000000   \n",
       "\n",
       "       Num_Credit_Card  Interest_Rate   Num_of_Loan  Delay_from_due_date  \\\n",
       "count     87887.000000   87887.000000  87887.000000         87887.000000   \n",
       "mean         15.891588      47.359257      3.541673            21.161935   \n",
       "std          89.281871     303.591315      2.442501            14.842033   \n",
       "min           1.000000       1.000000      0.000000            -5.000000   \n",
       "25%           4.000000       8.000000      2.000000            10.000000   \n",
       "50%           5.000000      13.000000      3.000000            18.000000   \n",
       "75%           7.000000      20.000000      5.000000            28.000000   \n",
       "max        1177.000000    4311.000000      9.000000            67.000000   \n",
       "\n",
       "       Num_of_Delayed_Payment  Changed_Credit_Limit  Num_Credit_Inquiries  \\\n",
       "count            81681.000000          86062.000000          86168.000000   \n",
       "mean                16.043058             10.427116             16.756012   \n",
       "std                 55.441798              6.800461            114.510164   \n",
       "min                  0.000000             -6.480000              0.000000   \n",
       "25%                  9.000000              5.360000              3.000000   \n",
       "50%                 14.000000              9.440000              6.000000   \n",
       "75%                 18.000000             14.950000              9.000000   \n",
       "max               1732.000000             36.490000           1820.000000   \n",
       "\n",
       "       Outstanding_Debt  Credit_Utilization_Ratio  Total_EMI_per_month  \\\n",
       "count      87887.000000              87887.000000         87887.000000   \n",
       "mean        1429.441580                 32.256829          1030.521043   \n",
       "std         1156.340109                  5.091133          6431.031843   \n",
       "min            0.230000                 20.000000             0.000000   \n",
       "25%          566.980000                 28.046211            30.519958   \n",
       "50%         1168.420000                 32.272919            68.731992   \n",
       "75%         1954.620000                 36.476546           158.038909   \n",
       "max         4998.070000                 47.480752         68937.000000   \n",
       "\n",
       "       Amount_invested_monthly  Monthly_Balance  \n",
       "count             83978.000000     86799.000000  \n",
       "mean                632.387777       399.572241  \n",
       "std                2035.819678       202.531607  \n",
       "min                   0.000000        38.009577  \n",
       "25%                  74.664738       270.670585  \n",
       "50%                 135.215412       337.122196  \n",
       "75%                 262.858076       467.753519  \n",
       "max               10000.000000      1235.389758  "
      ]
     },
     "execution_count": 15,
     "metadata": {},
     "output_type": "execute_result"
    }
   ],
   "source": [
    "rows_to_drop =  df[\n",
    "    # Из соображений логики, возраст клиента должен быть в диапазоне 0 < Age < 100\n",
    "    ((df['Age'] <= 0) | (df['Age'] >= 100)) |\n",
    "    # Также из соображений логики, количество банковских счетов не может быть отрицательным\n",
    "    (df['Num_of_Loan']  < 0) | (df['Num_of_Loan']  > df['Num_of_Loan' ].quantile(0.995)) |\n",
    "    (df['Num_of_Delayed_Payment']  < 0) | (df['Num_of_Delayed_Payment']  > df['Num_of_Delayed_Payment' ].quantile(0.995)) |\n",
    "    (df['Num_Bank_Accounts']  < 0) | (df['Num_Bank_Accounts']  > df['Num_Bank_Accounts' ].quantile(0.995)) |\n",
    "    (df['Num_Credit_Card']  < df['Num_Credit_Card'].quantile(0.005)) | (df['Num_Credit_Card']  > df['Num_Credit_Card'].quantile(0.995)) |\n",
    "    (df['Interest_Rate']  < df['Interest_Rate'].quantile(0.005)) | (df['Interest_Rate']  > df['Interest_Rate'].quantile(0.995)) |\n",
    "    (df['Total_EMI_per_month']  < df['Total_EMI_per_month'].quantile(0.005)) | (df['Total_EMI_per_month']  > df['Total_EMI_per_month'].quantile(0.995)) |\n",
    "    (df['Annual_Income']  < df['Annual_Income'].quantile(0.005)) | (df['Annual_Income']  > df['Annual_Income'].quantile(0.995)) |\n",
    "    (df['Monthly_Balance']  < df['Monthly_Balance'].quantile(0.005)) | (df['Monthly_Balance']  > df['Monthly_Balance'].quantile(0.995)) |\n",
    "    (df['Num_Credit_Inquiries']  < df['Num_Credit_Inquiries'].quantile(0.005)) | (df['Num_Credit_Inquiries']  > df['Num_Credit_Inquiries'].quantile(0.995))].index\n",
    "df_clear = df.drop(rows_to_drop)\n",
    "\n",
    "df_clear.describe()"
   ]
  },
  {
   "cell_type": "code",
   "execution_count": 16,
   "metadata": {
    "colab": {
     "base_uri": "https://localhost:8080/"
    },
    "id": "UBQY5jFCp0jr",
    "outputId": "8e6bc3e8-ebce-43fd-b506-e46e840e244c"
   },
   "outputs": [
    {
     "data": {
      "text/plain": [
       "Month                           0\n",
       "Age                             0\n",
       "Occupation                   6191\n",
       "Annual_Income                   0\n",
       "Monthly_Inhand_Salary       13162\n",
       "Num_Bank_Accounts               0\n",
       "Num_Credit_Card                 0\n",
       "Interest_Rate                   0\n",
       "Num_of_Loan                     0\n",
       "Type_of_Loan                 9877\n",
       "Delay_from_due_date             0\n",
       "Num_of_Delayed_Payment       6206\n",
       "Changed_Credit_Limit         1825\n",
       "Num_Credit_Inquiries         1719\n",
       "Credit_Mix                  17776\n",
       "Outstanding_Debt                0\n",
       "Credit_Utilization_Ratio        0\n",
       "Credit_History_Age           7978\n",
       "Payment_of_Min_Amount           0\n",
       "Total_EMI_per_month             0\n",
       "Amount_invested_monthly      3909\n",
       "Payment_Behaviour            6673\n",
       "Monthly_Balance              1088\n",
       "Credit_Score                    0\n",
       "dtype: int64"
      ]
     },
     "execution_count": 16,
     "metadata": {},
     "output_type": "execute_result"
    }
   ],
   "source": [
    "df_clear.isna().sum()"
   ]
  },
  {
   "cell_type": "markdown",
   "metadata": {
    "id": "3GBNhsIk5Atw"
   },
   "source": [
    "# Обработка пустых значений"
   ]
  },
  {
   "cell_type": "code",
   "execution_count": 17,
   "metadata": {
    "colab": {
     "base_uri": "https://localhost:8080/"
    },
    "id": "mZQGFNsxU60O",
    "outputId": "df087513-7bc3-4bc0-8b69-691707afbd78"
   },
   "outputs": [
    {
     "name": "stdout",
     "output_type": "stream",
     "text": [
      "categorical_columns ['Month', 'Occupation', 'Type_of_Loan', 'Credit_Mix', 'Credit_History_Age', 'Payment_of_Min_Amount', 'Payment_Behaviour', 'Credit_Score']\n",
      "numerical_columns ['Age', 'Annual_Income', 'Monthly_Inhand_Salary', 'Num_Bank_Accounts', 'Num_Credit_Card', 'Interest_Rate', 'Num_of_Loan', 'Delay_from_due_date', 'Num_of_Delayed_Payment', 'Changed_Credit_Limit', 'Num_Credit_Inquiries', 'Outstanding_Debt', 'Credit_Utilization_Ratio', 'Total_EMI_per_month', 'Amount_invested_monthly', 'Monthly_Balance']\n"
     ]
    }
   ],
   "source": [
    "categorical_columns = [c for c in df_clear.columns if df_clear[c].dtype.name == 'object']\n",
    "numerical_columns   = [c for c in df_clear.columns if df_clear[c].dtype.name != 'object']\n",
    "print('categorical_columns', categorical_columns)\n",
    "print('numerical_columns', numerical_columns)"
   ]
  },
  {
   "cell_type": "code",
   "execution_count": 18,
   "metadata": {
    "scrolled": true
   },
   "outputs": [
    {
     "data": {
      "text/html": [
       "<div>\n",
       "<style scoped>\n",
       "    .dataframe tbody tr th:only-of-type {\n",
       "        vertical-align: middle;\n",
       "    }\n",
       "\n",
       "    .dataframe tbody tr th {\n",
       "        vertical-align: top;\n",
       "    }\n",
       "\n",
       "    .dataframe thead th {\n",
       "        text-align: right;\n",
       "    }\n",
       "</style>\n",
       "<table border=\"1\" class=\"dataframe\">\n",
       "  <thead>\n",
       "    <tr style=\"text-align: right;\">\n",
       "      <th></th>\n",
       "      <th>Month</th>\n",
       "      <th>Age</th>\n",
       "      <th>Occupation</th>\n",
       "      <th>Annual_Income</th>\n",
       "      <th>Monthly_Inhand_Salary</th>\n",
       "      <th>Num_Bank_Accounts</th>\n",
       "      <th>Num_Credit_Card</th>\n",
       "      <th>Interest_Rate</th>\n",
       "      <th>Num_of_Loan</th>\n",
       "      <th>Type_of_Loan</th>\n",
       "      <th>...</th>\n",
       "      <th>Credit_Mix</th>\n",
       "      <th>Outstanding_Debt</th>\n",
       "      <th>Credit_Utilization_Ratio</th>\n",
       "      <th>Credit_History_Age</th>\n",
       "      <th>Payment_of_Min_Amount</th>\n",
       "      <th>Total_EMI_per_month</th>\n",
       "      <th>Amount_invested_monthly</th>\n",
       "      <th>Payment_Behaviour</th>\n",
       "      <th>Monthly_Balance</th>\n",
       "      <th>Credit_Score</th>\n",
       "    </tr>\n",
       "  </thead>\n",
       "  <tbody>\n",
       "    <tr>\n",
       "      <th>0</th>\n",
       "      <td>January</td>\n",
       "      <td>23</td>\n",
       "      <td>Scientist</td>\n",
       "      <td>19114.12</td>\n",
       "      <td>1824.843333</td>\n",
       "      <td>3</td>\n",
       "      <td>4</td>\n",
       "      <td>3</td>\n",
       "      <td>4</td>\n",
       "      <td>Auto Loan, Credit-Builder Loan, Personal Loan,...</td>\n",
       "      <td>...</td>\n",
       "      <td>NaN</td>\n",
       "      <td>809.98</td>\n",
       "      <td>26.822620</td>\n",
       "      <td>22 Years and 1 Months</td>\n",
       "      <td>No</td>\n",
       "      <td>49.574949</td>\n",
       "      <td>80.415295</td>\n",
       "      <td>High_spent_Small_value_payments</td>\n",
       "      <td>312.494089</td>\n",
       "      <td>Good</td>\n",
       "    </tr>\n",
       "    <tr>\n",
       "      <th>1</th>\n",
       "      <td>February</td>\n",
       "      <td>23</td>\n",
       "      <td>Scientist</td>\n",
       "      <td>19114.12</td>\n",
       "      <td>NaN</td>\n",
       "      <td>3</td>\n",
       "      <td>4</td>\n",
       "      <td>3</td>\n",
       "      <td>4</td>\n",
       "      <td>Auto Loan, Credit-Builder Loan, Personal Loan,...</td>\n",
       "      <td>...</td>\n",
       "      <td>Good</td>\n",
       "      <td>809.98</td>\n",
       "      <td>31.944960</td>\n",
       "      <td>NaN</td>\n",
       "      <td>No</td>\n",
       "      <td>49.574949</td>\n",
       "      <td>118.280222</td>\n",
       "      <td>Low_spent_Large_value_payments</td>\n",
       "      <td>284.629162</td>\n",
       "      <td>Good</td>\n",
       "    </tr>\n",
       "    <tr>\n",
       "      <th>3</th>\n",
       "      <td>April</td>\n",
       "      <td>23</td>\n",
       "      <td>Scientist</td>\n",
       "      <td>19114.12</td>\n",
       "      <td>NaN</td>\n",
       "      <td>3</td>\n",
       "      <td>4</td>\n",
       "      <td>3</td>\n",
       "      <td>4</td>\n",
       "      <td>Auto Loan, Credit-Builder Loan, Personal Loan,...</td>\n",
       "      <td>...</td>\n",
       "      <td>Good</td>\n",
       "      <td>809.98</td>\n",
       "      <td>31.377862</td>\n",
       "      <td>22 Years and 4 Months</td>\n",
       "      <td>No</td>\n",
       "      <td>49.574949</td>\n",
       "      <td>199.458074</td>\n",
       "      <td>Low_spent_Small_value_payments</td>\n",
       "      <td>223.451310</td>\n",
       "      <td>Good</td>\n",
       "    </tr>\n",
       "    <tr>\n",
       "      <th>4</th>\n",
       "      <td>May</td>\n",
       "      <td>23</td>\n",
       "      <td>Scientist</td>\n",
       "      <td>19114.12</td>\n",
       "      <td>1824.843333</td>\n",
       "      <td>3</td>\n",
       "      <td>4</td>\n",
       "      <td>3</td>\n",
       "      <td>4</td>\n",
       "      <td>Auto Loan, Credit-Builder Loan, Personal Loan,...</td>\n",
       "      <td>...</td>\n",
       "      <td>Good</td>\n",
       "      <td>809.98</td>\n",
       "      <td>24.797347</td>\n",
       "      <td>22 Years and 5 Months</td>\n",
       "      <td>No</td>\n",
       "      <td>49.574949</td>\n",
       "      <td>41.420153</td>\n",
       "      <td>High_spent_Medium_value_payments</td>\n",
       "      <td>341.489231</td>\n",
       "      <td>Good</td>\n",
       "    </tr>\n",
       "    <tr>\n",
       "      <th>5</th>\n",
       "      <td>June</td>\n",
       "      <td>23</td>\n",
       "      <td>Scientist</td>\n",
       "      <td>19114.12</td>\n",
       "      <td>NaN</td>\n",
       "      <td>3</td>\n",
       "      <td>4</td>\n",
       "      <td>3</td>\n",
       "      <td>4</td>\n",
       "      <td>Auto Loan, Credit-Builder Loan, Personal Loan,...</td>\n",
       "      <td>...</td>\n",
       "      <td>Good</td>\n",
       "      <td>809.98</td>\n",
       "      <td>27.262259</td>\n",
       "      <td>22 Years and 6 Months</td>\n",
       "      <td>No</td>\n",
       "      <td>49.574949</td>\n",
       "      <td>62.430172</td>\n",
       "      <td>NaN</td>\n",
       "      <td>340.479212</td>\n",
       "      <td>Good</td>\n",
       "    </tr>\n",
       "    <tr>\n",
       "      <th>...</th>\n",
       "      <td>...</td>\n",
       "      <td>...</td>\n",
       "      <td>...</td>\n",
       "      <td>...</td>\n",
       "      <td>...</td>\n",
       "      <td>...</td>\n",
       "      <td>...</td>\n",
       "      <td>...</td>\n",
       "      <td>...</td>\n",
       "      <td>...</td>\n",
       "      <td>...</td>\n",
       "      <td>...</td>\n",
       "      <td>...</td>\n",
       "      <td>...</td>\n",
       "      <td>...</td>\n",
       "      <td>...</td>\n",
       "      <td>...</td>\n",
       "      <td>...</td>\n",
       "      <td>...</td>\n",
       "      <td>...</td>\n",
       "      <td>...</td>\n",
       "    </tr>\n",
       "    <tr>\n",
       "      <th>99994</th>\n",
       "      <td>March</td>\n",
       "      <td>25</td>\n",
       "      <td>Mechanic</td>\n",
       "      <td>39628.99</td>\n",
       "      <td>3359.415833</td>\n",
       "      <td>4</td>\n",
       "      <td>6</td>\n",
       "      <td>7</td>\n",
       "      <td>2</td>\n",
       "      <td>Auto Loan, and Student Loan</td>\n",
       "      <td>...</td>\n",
       "      <td>NaN</td>\n",
       "      <td>502.38</td>\n",
       "      <td>39.323569</td>\n",
       "      <td>31 Years and 5 Months</td>\n",
       "      <td>No</td>\n",
       "      <td>35.104023</td>\n",
       "      <td>140.581403</td>\n",
       "      <td>High_spent_Medium_value_payments</td>\n",
       "      <td>410.256158</td>\n",
       "      <td>Poor</td>\n",
       "    </tr>\n",
       "    <tr>\n",
       "      <th>99995</th>\n",
       "      <td>April</td>\n",
       "      <td>25</td>\n",
       "      <td>Mechanic</td>\n",
       "      <td>39628.99</td>\n",
       "      <td>3359.415833</td>\n",
       "      <td>4</td>\n",
       "      <td>6</td>\n",
       "      <td>7</td>\n",
       "      <td>2</td>\n",
       "      <td>Auto Loan, and Student Loan</td>\n",
       "      <td>...</td>\n",
       "      <td>NaN</td>\n",
       "      <td>502.38</td>\n",
       "      <td>34.663572</td>\n",
       "      <td>31 Years and 6 Months</td>\n",
       "      <td>No</td>\n",
       "      <td>35.104023</td>\n",
       "      <td>60.971333</td>\n",
       "      <td>High_spent_Large_value_payments</td>\n",
       "      <td>479.866228</td>\n",
       "      <td>Poor</td>\n",
       "    </tr>\n",
       "    <tr>\n",
       "      <th>99996</th>\n",
       "      <td>May</td>\n",
       "      <td>25</td>\n",
       "      <td>Mechanic</td>\n",
       "      <td>39628.99</td>\n",
       "      <td>3359.415833</td>\n",
       "      <td>4</td>\n",
       "      <td>6</td>\n",
       "      <td>7</td>\n",
       "      <td>2</td>\n",
       "      <td>Auto Loan, and Student Loan</td>\n",
       "      <td>...</td>\n",
       "      <td>NaN</td>\n",
       "      <td>502.38</td>\n",
       "      <td>40.565631</td>\n",
       "      <td>31 Years and 7 Months</td>\n",
       "      <td>No</td>\n",
       "      <td>35.104023</td>\n",
       "      <td>54.185950</td>\n",
       "      <td>High_spent_Medium_value_payments</td>\n",
       "      <td>496.651610</td>\n",
       "      <td>Poor</td>\n",
       "    </tr>\n",
       "    <tr>\n",
       "      <th>99998</th>\n",
       "      <td>July</td>\n",
       "      <td>25</td>\n",
       "      <td>Mechanic</td>\n",
       "      <td>39628.99</td>\n",
       "      <td>3359.415833</td>\n",
       "      <td>4</td>\n",
       "      <td>6</td>\n",
       "      <td>7</td>\n",
       "      <td>2</td>\n",
       "      <td>Auto Loan, and Student Loan</td>\n",
       "      <td>...</td>\n",
       "      <td>Good</td>\n",
       "      <td>502.38</td>\n",
       "      <td>33.638208</td>\n",
       "      <td>31 Years and 9 Months</td>\n",
       "      <td>No</td>\n",
       "      <td>35.104023</td>\n",
       "      <td>251.672582</td>\n",
       "      <td>Low_spent_Large_value_payments</td>\n",
       "      <td>319.164979</td>\n",
       "      <td>Standard</td>\n",
       "    </tr>\n",
       "    <tr>\n",
       "      <th>99999</th>\n",
       "      <td>August</td>\n",
       "      <td>25</td>\n",
       "      <td>Mechanic</td>\n",
       "      <td>39628.99</td>\n",
       "      <td>3359.415833</td>\n",
       "      <td>4</td>\n",
       "      <td>6</td>\n",
       "      <td>7</td>\n",
       "      <td>2</td>\n",
       "      <td>Auto Loan, and Student Loan</td>\n",
       "      <td>...</td>\n",
       "      <td>Good</td>\n",
       "      <td>502.38</td>\n",
       "      <td>34.192463</td>\n",
       "      <td>31 Years and 10 Months</td>\n",
       "      <td>No</td>\n",
       "      <td>35.104023</td>\n",
       "      <td>167.163865</td>\n",
       "      <td>NaN</td>\n",
       "      <td>393.673696</td>\n",
       "      <td>Poor</td>\n",
       "    </tr>\n",
       "  </tbody>\n",
       "</table>\n",
       "<p>87887 rows × 24 columns</p>\n",
       "</div>"
      ],
      "text/plain": [
       "          Month  Age Occupation  Annual_Income  Monthly_Inhand_Salary  \\\n",
       "0       January   23  Scientist       19114.12            1824.843333   \n",
       "1      February   23  Scientist       19114.12                    NaN   \n",
       "3         April   23  Scientist       19114.12                    NaN   \n",
       "4           May   23  Scientist       19114.12            1824.843333   \n",
       "5          June   23  Scientist       19114.12                    NaN   \n",
       "...         ...  ...        ...            ...                    ...   \n",
       "99994     March   25   Mechanic       39628.99            3359.415833   \n",
       "99995     April   25   Mechanic       39628.99            3359.415833   \n",
       "99996       May   25   Mechanic       39628.99            3359.415833   \n",
       "99998      July   25   Mechanic       39628.99            3359.415833   \n",
       "99999    August   25   Mechanic       39628.99            3359.415833   \n",
       "\n",
       "       Num_Bank_Accounts  Num_Credit_Card  Interest_Rate  Num_of_Loan  \\\n",
       "0                      3                4              3            4   \n",
       "1                      3                4              3            4   \n",
       "3                      3                4              3            4   \n",
       "4                      3                4              3            4   \n",
       "5                      3                4              3            4   \n",
       "...                  ...              ...            ...          ...   \n",
       "99994                  4                6              7            2   \n",
       "99995                  4                6              7            2   \n",
       "99996                  4                6              7            2   \n",
       "99998                  4                6              7            2   \n",
       "99999                  4                6              7            2   \n",
       "\n",
       "                                            Type_of_Loan  ...  Credit_Mix  \\\n",
       "0      Auto Loan, Credit-Builder Loan, Personal Loan,...  ...         NaN   \n",
       "1      Auto Loan, Credit-Builder Loan, Personal Loan,...  ...        Good   \n",
       "3      Auto Loan, Credit-Builder Loan, Personal Loan,...  ...        Good   \n",
       "4      Auto Loan, Credit-Builder Loan, Personal Loan,...  ...        Good   \n",
       "5      Auto Loan, Credit-Builder Loan, Personal Loan,...  ...        Good   \n",
       "...                                                  ...  ...         ...   \n",
       "99994                        Auto Loan, and Student Loan  ...         NaN   \n",
       "99995                        Auto Loan, and Student Loan  ...         NaN   \n",
       "99996                        Auto Loan, and Student Loan  ...         NaN   \n",
       "99998                        Auto Loan, and Student Loan  ...        Good   \n",
       "99999                        Auto Loan, and Student Loan  ...        Good   \n",
       "\n",
       "       Outstanding_Debt  Credit_Utilization_Ratio      Credit_History_Age  \\\n",
       "0                809.98                 26.822620   22 Years and 1 Months   \n",
       "1                809.98                 31.944960                     NaN   \n",
       "3                809.98                 31.377862   22 Years and 4 Months   \n",
       "4                809.98                 24.797347   22 Years and 5 Months   \n",
       "5                809.98                 27.262259   22 Years and 6 Months   \n",
       "...                 ...                       ...                     ...   \n",
       "99994            502.38                 39.323569   31 Years and 5 Months   \n",
       "99995            502.38                 34.663572   31 Years and 6 Months   \n",
       "99996            502.38                 40.565631   31 Years and 7 Months   \n",
       "99998            502.38                 33.638208   31 Years and 9 Months   \n",
       "99999            502.38                 34.192463  31 Years and 10 Months   \n",
       "\n",
       "      Payment_of_Min_Amount  Total_EMI_per_month  Amount_invested_monthly  \\\n",
       "0                        No            49.574949                80.415295   \n",
       "1                        No            49.574949               118.280222   \n",
       "3                        No            49.574949               199.458074   \n",
       "4                        No            49.574949                41.420153   \n",
       "5                        No            49.574949                62.430172   \n",
       "...                     ...                  ...                      ...   \n",
       "99994                    No            35.104023               140.581403   \n",
       "99995                    No            35.104023                60.971333   \n",
       "99996                    No            35.104023                54.185950   \n",
       "99998                    No            35.104023               251.672582   \n",
       "99999                    No            35.104023               167.163865   \n",
       "\n",
       "                      Payment_Behaviour Monthly_Balance  Credit_Score  \n",
       "0       High_spent_Small_value_payments      312.494089          Good  \n",
       "1        Low_spent_Large_value_payments      284.629162          Good  \n",
       "3        Low_spent_Small_value_payments      223.451310          Good  \n",
       "4      High_spent_Medium_value_payments      341.489231          Good  \n",
       "5                                   NaN      340.479212          Good  \n",
       "...                                 ...             ...           ...  \n",
       "99994  High_spent_Medium_value_payments      410.256158          Poor  \n",
       "99995   High_spent_Large_value_payments      479.866228          Poor  \n",
       "99996  High_spent_Medium_value_payments      496.651610          Poor  \n",
       "99998    Low_spent_Large_value_payments      319.164979      Standard  \n",
       "99999                               NaN      393.673696          Poor  \n",
       "\n",
       "[87887 rows x 24 columns]"
      ]
     },
     "execution_count": 18,
     "metadata": {},
     "output_type": "execute_result"
    }
   ],
   "source": [
    "df_clear"
   ]
  },
  {
   "cell_type": "code",
   "execution_count": 19,
   "metadata": {
    "scrolled": true
   },
   "outputs": [
    {
     "data": {
      "text/plain": [
       "dtype('int64')"
      ]
     },
     "execution_count": 19,
     "metadata": {},
     "output_type": "execute_result"
    }
   ],
   "source": [
    "df_clear['Num_Bank_Accounts'].dtype"
   ]
  },
  {
   "cell_type": "code",
   "execution_count": 20,
   "metadata": {},
   "outputs": [
    {
     "name": "stdout",
     "output_type": "stream",
     "text": [
      "<class 'pandas.core.frame.DataFrame'>\n",
      "Index: 87887 entries, 0 to 99999\n",
      "Data columns (total 24 columns):\n",
      " #   Column                    Non-Null Count  Dtype  \n",
      "---  ------                    --------------  -----  \n",
      " 0   Month                     87887 non-null  object \n",
      " 1   Age                       87887 non-null  int32  \n",
      " 2   Occupation                81696 non-null  object \n",
      " 3   Annual_Income             87887 non-null  float64\n",
      " 4   Monthly_Inhand_Salary     74725 non-null  float64\n",
      " 5   Num_Bank_Accounts         87887 non-null  int64  \n",
      " 6   Num_Credit_Card           87887 non-null  int64  \n",
      " 7   Interest_Rate             87887 non-null  int64  \n",
      " 8   Num_of_Loan               87887 non-null  int32  \n",
      " 9   Type_of_Loan              78010 non-null  object \n",
      " 10  Delay_from_due_date       87887 non-null  int64  \n",
      " 11  Num_of_Delayed_Payment    81681 non-null  float64\n",
      " 12  Changed_Credit_Limit      86062 non-null  float64\n",
      " 13  Num_Credit_Inquiries      86168 non-null  float64\n",
      " 14  Credit_Mix                70111 non-null  object \n",
      " 15  Outstanding_Debt          87887 non-null  float64\n",
      " 16  Credit_Utilization_Ratio  87887 non-null  float64\n",
      " 17  Credit_History_Age        79909 non-null  object \n",
      " 18  Payment_of_Min_Amount     87887 non-null  object \n",
      " 19  Total_EMI_per_month       87887 non-null  float64\n",
      " 20  Amount_invested_monthly   83978 non-null  float64\n",
      " 21  Payment_Behaviour         81214 non-null  object \n",
      " 22  Monthly_Balance           86799 non-null  float64\n",
      " 23  Credit_Score              87887 non-null  object \n",
      "dtypes: float64(10), int32(2), int64(4), object(8)\n",
      "memory usage: 16.1+ MB\n"
     ]
    }
   ],
   "source": [
    "df_clear.info()"
   ]
  },
  {
   "cell_type": "code",
   "execution_count": 21,
   "metadata": {},
   "outputs": [
    {
     "data": {
      "text/html": [
       "<div>\n",
       "<style scoped>\n",
       "    .dataframe tbody tr th:only-of-type {\n",
       "        vertical-align: middle;\n",
       "    }\n",
       "\n",
       "    .dataframe tbody tr th {\n",
       "        vertical-align: top;\n",
       "    }\n",
       "\n",
       "    .dataframe thead th {\n",
       "        text-align: right;\n",
       "    }\n",
       "</style>\n",
       "<table border=\"1\" class=\"dataframe\">\n",
       "  <thead>\n",
       "    <tr style=\"text-align: right;\">\n",
       "      <th></th>\n",
       "      <th>Age</th>\n",
       "      <th>Annual_Income</th>\n",
       "      <th>Monthly_Inhand_Salary</th>\n",
       "      <th>Num_Bank_Accounts</th>\n",
       "      <th>Num_Credit_Card</th>\n",
       "      <th>Interest_Rate</th>\n",
       "      <th>Num_of_Loan</th>\n",
       "      <th>Delay_from_due_date</th>\n",
       "      <th>Num_of_Delayed_Payment</th>\n",
       "      <th>Changed_Credit_Limit</th>\n",
       "      <th>Num_Credit_Inquiries</th>\n",
       "      <th>Outstanding_Debt</th>\n",
       "      <th>Credit_Utilization_Ratio</th>\n",
       "      <th>Total_EMI_per_month</th>\n",
       "      <th>Amount_invested_monthly</th>\n",
       "      <th>Monthly_Balance</th>\n",
       "    </tr>\n",
       "  </thead>\n",
       "  <tbody>\n",
       "    <tr>\n",
       "      <th>count</th>\n",
       "      <td>87887.000000</td>\n",
       "      <td>8.788700e+04</td>\n",
       "      <td>74725.000000</td>\n",
       "      <td>87887.000000</td>\n",
       "      <td>87887.000000</td>\n",
       "      <td>87887.000000</td>\n",
       "      <td>87887.000000</td>\n",
       "      <td>87887.000000</td>\n",
       "      <td>81681.000000</td>\n",
       "      <td>86062.000000</td>\n",
       "      <td>86168.000000</td>\n",
       "      <td>87887.000000</td>\n",
       "      <td>87887.000000</td>\n",
       "      <td>87887.000000</td>\n",
       "      <td>83978.000000</td>\n",
       "      <td>86799.000000</td>\n",
       "    </tr>\n",
       "    <tr>\n",
       "      <th>mean</th>\n",
       "      <td>33.291454</td>\n",
       "      <td>8.384062e+04</td>\n",
       "      <td>4147.281226</td>\n",
       "      <td>9.954510</td>\n",
       "      <td>15.891588</td>\n",
       "      <td>47.359257</td>\n",
       "      <td>3.541673</td>\n",
       "      <td>21.161935</td>\n",
       "      <td>16.043058</td>\n",
       "      <td>10.427116</td>\n",
       "      <td>16.756012</td>\n",
       "      <td>1429.441580</td>\n",
       "      <td>32.256829</td>\n",
       "      <td>1030.521043</td>\n",
       "      <td>632.387777</td>\n",
       "      <td>399.572241</td>\n",
       "    </tr>\n",
       "    <tr>\n",
       "      <th>std</th>\n",
       "      <td>10.777875</td>\n",
       "      <td>5.490343e+05</td>\n",
       "      <td>3111.906500</td>\n",
       "      <td>57.897614</td>\n",
       "      <td>89.281871</td>\n",
       "      <td>303.591315</td>\n",
       "      <td>2.442501</td>\n",
       "      <td>14.842033</td>\n",
       "      <td>55.441798</td>\n",
       "      <td>6.800461</td>\n",
       "      <td>114.510164</td>\n",
       "      <td>1156.340109</td>\n",
       "      <td>5.091133</td>\n",
       "      <td>6431.031843</td>\n",
       "      <td>2035.819678</td>\n",
       "      <td>202.531607</td>\n",
       "    </tr>\n",
       "    <tr>\n",
       "      <th>min</th>\n",
       "      <td>14.000000</td>\n",
       "      <td>7.230615e+03</td>\n",
       "      <td>319.556250</td>\n",
       "      <td>0.000000</td>\n",
       "      <td>1.000000</td>\n",
       "      <td>1.000000</td>\n",
       "      <td>0.000000</td>\n",
       "      <td>-5.000000</td>\n",
       "      <td>0.000000</td>\n",
       "      <td>-6.480000</td>\n",
       "      <td>0.000000</td>\n",
       "      <td>0.230000</td>\n",
       "      <td>20.000000</td>\n",
       "      <td>0.000000</td>\n",
       "      <td>0.000000</td>\n",
       "      <td>38.009577</td>\n",
       "    </tr>\n",
       "    <tr>\n",
       "      <th>25%</th>\n",
       "      <td>24.000000</td>\n",
       "      <td>1.942803e+04</td>\n",
       "      <td>1628.144167</td>\n",
       "      <td>4.000000</td>\n",
       "      <td>4.000000</td>\n",
       "      <td>8.000000</td>\n",
       "      <td>2.000000</td>\n",
       "      <td>10.000000</td>\n",
       "      <td>9.000000</td>\n",
       "      <td>5.360000</td>\n",
       "      <td>3.000000</td>\n",
       "      <td>566.980000</td>\n",
       "      <td>28.046211</td>\n",
       "      <td>30.519958</td>\n",
       "      <td>74.664738</td>\n",
       "      <td>270.670585</td>\n",
       "    </tr>\n",
       "    <tr>\n",
       "      <th>50%</th>\n",
       "      <td>33.000000</td>\n",
       "      <td>3.696676e+04</td>\n",
       "      <td>3074.806667</td>\n",
       "      <td>6.000000</td>\n",
       "      <td>5.000000</td>\n",
       "      <td>13.000000</td>\n",
       "      <td>3.000000</td>\n",
       "      <td>18.000000</td>\n",
       "      <td>14.000000</td>\n",
       "      <td>9.440000</td>\n",
       "      <td>6.000000</td>\n",
       "      <td>1168.420000</td>\n",
       "      <td>32.272919</td>\n",
       "      <td>68.731992</td>\n",
       "      <td>135.215412</td>\n",
       "      <td>337.122196</td>\n",
       "    </tr>\n",
       "    <tr>\n",
       "      <th>75%</th>\n",
       "      <td>42.000000</td>\n",
       "      <td>7.160812e+04</td>\n",
       "      <td>5909.096667</td>\n",
       "      <td>7.000000</td>\n",
       "      <td>7.000000</td>\n",
       "      <td>20.000000</td>\n",
       "      <td>5.000000</td>\n",
       "      <td>28.000000</td>\n",
       "      <td>18.000000</td>\n",
       "      <td>14.950000</td>\n",
       "      <td>9.000000</td>\n",
       "      <td>1954.620000</td>\n",
       "      <td>36.476546</td>\n",
       "      <td>158.038909</td>\n",
       "      <td>262.858076</td>\n",
       "      <td>467.753519</td>\n",
       "    </tr>\n",
       "    <tr>\n",
       "      <th>max</th>\n",
       "      <td>99.000000</td>\n",
       "      <td>1.292080e+07</td>\n",
       "      <td>15204.633333</td>\n",
       "      <td>1096.000000</td>\n",
       "      <td>1177.000000</td>\n",
       "      <td>4311.000000</td>\n",
       "      <td>9.000000</td>\n",
       "      <td>67.000000</td>\n",
       "      <td>1732.000000</td>\n",
       "      <td>36.490000</td>\n",
       "      <td>1820.000000</td>\n",
       "      <td>4998.070000</td>\n",
       "      <td>47.480752</td>\n",
       "      <td>68937.000000</td>\n",
       "      <td>10000.000000</td>\n",
       "      <td>1235.389758</td>\n",
       "    </tr>\n",
       "  </tbody>\n",
       "</table>\n",
       "</div>"
      ],
      "text/plain": [
       "                Age  Annual_Income  Monthly_Inhand_Salary  Num_Bank_Accounts  \\\n",
       "count  87887.000000   8.788700e+04           74725.000000       87887.000000   \n",
       "mean      33.291454   8.384062e+04            4147.281226           9.954510   \n",
       "std       10.777875   5.490343e+05            3111.906500          57.897614   \n",
       "min       14.000000   7.230615e+03             319.556250           0.000000   \n",
       "25%       24.000000   1.942803e+04            1628.144167           4.000000   \n",
       "50%       33.000000   3.696676e+04            3074.806667           6.000000   \n",
       "75%       42.000000   7.160812e+04            5909.096667           7.000000   \n",
       "max       99.000000   1.292080e+07           15204.633333        1096.000000   \n",
       "\n",
       "       Num_Credit_Card  Interest_Rate   Num_of_Loan  Delay_from_due_date  \\\n",
       "count     87887.000000   87887.000000  87887.000000         87887.000000   \n",
       "mean         15.891588      47.359257      3.541673            21.161935   \n",
       "std          89.281871     303.591315      2.442501            14.842033   \n",
       "min           1.000000       1.000000      0.000000            -5.000000   \n",
       "25%           4.000000       8.000000      2.000000            10.000000   \n",
       "50%           5.000000      13.000000      3.000000            18.000000   \n",
       "75%           7.000000      20.000000      5.000000            28.000000   \n",
       "max        1177.000000    4311.000000      9.000000            67.000000   \n",
       "\n",
       "       Num_of_Delayed_Payment  Changed_Credit_Limit  Num_Credit_Inquiries  \\\n",
       "count            81681.000000          86062.000000          86168.000000   \n",
       "mean                16.043058             10.427116             16.756012   \n",
       "std                 55.441798              6.800461            114.510164   \n",
       "min                  0.000000             -6.480000              0.000000   \n",
       "25%                  9.000000              5.360000              3.000000   \n",
       "50%                 14.000000              9.440000              6.000000   \n",
       "75%                 18.000000             14.950000              9.000000   \n",
       "max               1732.000000             36.490000           1820.000000   \n",
       "\n",
       "       Outstanding_Debt  Credit_Utilization_Ratio  Total_EMI_per_month  \\\n",
       "count      87887.000000              87887.000000         87887.000000   \n",
       "mean        1429.441580                 32.256829          1030.521043   \n",
       "std         1156.340109                  5.091133          6431.031843   \n",
       "min            0.230000                 20.000000             0.000000   \n",
       "25%          566.980000                 28.046211            30.519958   \n",
       "50%         1168.420000                 32.272919            68.731992   \n",
       "75%         1954.620000                 36.476546           158.038909   \n",
       "max         4998.070000                 47.480752         68937.000000   \n",
       "\n",
       "       Amount_invested_monthly  Monthly_Balance  \n",
       "count             83978.000000     86799.000000  \n",
       "mean                632.387777       399.572241  \n",
       "std                2035.819678       202.531607  \n",
       "min                   0.000000        38.009577  \n",
       "25%                  74.664738       270.670585  \n",
       "50%                 135.215412       337.122196  \n",
       "75%                 262.858076       467.753519  \n",
       "max               10000.000000      1235.389758  "
      ]
     },
     "execution_count": 21,
     "metadata": {},
     "output_type": "execute_result"
    }
   ],
   "source": [
    "data_describe = df_clear.describe(include = ['int64', 'int32', 'float64'])\n",
    "data_describe"
   ]
  },
  {
   "cell_type": "markdown",
   "metadata": {
    "id": "oULmWagk72gV"
   },
   "source": [
    "Для номинальных признаков"
   ]
  },
  {
   "cell_type": "code",
   "execution_count": 22,
   "metadata": {
    "colab": {
     "base_uri": "https://localhost:8080/"
    },
    "id": "SGDICFhk6s7Z",
    "outputId": "7073d07d-1b49-4062-ad9d-56fe578e9e10"
   },
   "outputs": [
    {
     "data": {
      "text/plain": [
       "Month                           0\n",
       "Age                             0\n",
       "Occupation                   6191\n",
       "Annual_Income                   0\n",
       "Monthly_Inhand_Salary           0\n",
       "Num_Bank_Accounts               0\n",
       "Num_Credit_Card                 0\n",
       "Interest_Rate                   0\n",
       "Num_of_Loan                     0\n",
       "Type_of_Loan                 9877\n",
       "Delay_from_due_date             0\n",
       "Num_of_Delayed_Payment          0\n",
       "Changed_Credit_Limit            0\n",
       "Num_Credit_Inquiries            0\n",
       "Credit_Mix                  17776\n",
       "Outstanding_Debt                0\n",
       "Credit_Utilization_Ratio        0\n",
       "Credit_History_Age           7978\n",
       "Payment_of_Min_Amount           0\n",
       "Total_EMI_per_month             0\n",
       "Amount_invested_monthly         0\n",
       "Payment_Behaviour            6673\n",
       "Monthly_Balance                 0\n",
       "Credit_Score                    0\n",
       "dtype: int64"
      ]
     },
     "execution_count": 22,
     "metadata": {},
     "output_type": "execute_result"
    }
   ],
   "source": [
    "data_describe = df_clear.describe(include = [float, int])\n",
    "for c in numerical_columns:\n",
    "    df_clear[c] = df_clear[c].fillna(data_describe[c].median(axis = 0), axis = 0)\n",
    "df_clear.isna().sum()"
   ]
  },
  {
   "cell_type": "markdown",
   "metadata": {
    "id": "XDZ_JL_u76dC"
   },
   "source": [
    "Для категориальных признаков"
   ]
  },
  {
   "cell_type": "code",
   "execution_count": 23,
   "metadata": {
    "id": "HQXZ4gSM79Nw"
   },
   "outputs": [
    {
     "data": {
      "text/plain": [
       "Month                       0\n",
       "Age                         0\n",
       "Occupation                  0\n",
       "Annual_Income               0\n",
       "Monthly_Inhand_Salary       0\n",
       "Num_Bank_Accounts           0\n",
       "Num_Credit_Card             0\n",
       "Interest_Rate               0\n",
       "Num_of_Loan                 0\n",
       "Type_of_Loan                0\n",
       "Delay_from_due_date         0\n",
       "Num_of_Delayed_Payment      0\n",
       "Changed_Credit_Limit        0\n",
       "Num_Credit_Inquiries        0\n",
       "Credit_Mix                  0\n",
       "Outstanding_Debt            0\n",
       "Credit_Utilization_Ratio    0\n",
       "Credit_History_Age          0\n",
       "Payment_of_Min_Amount       0\n",
       "Total_EMI_per_month         0\n",
       "Amount_invested_monthly     0\n",
       "Payment_Behaviour           0\n",
       "Monthly_Balance             0\n",
       "Credit_Score                0\n",
       "dtype: int64"
      ]
     },
     "execution_count": 23,
     "metadata": {},
     "output_type": "execute_result"
    }
   ],
   "source": [
    "data_describe = df_clear.describe(include = [object])\n",
    "for c in categorical_columns:\n",
    "    df_clear[c] = df_clear[c].fillna(data_describe[c]['top'])\n",
    "df_clear.isna().sum()"
   ]
  },
  {
   "cell_type": "markdown",
   "metadata": {
    "id": "AH-_beff8ckX"
   },
   "source": [
    "# Анализ данных"
   ]
  },
  {
   "cell_type": "code",
   "execution_count": 24,
   "metadata": {
    "colab": {
     "base_uri": "https://localhost:8080/",
     "height": 355
    },
    "id": "knCibt9RGi8T",
    "outputId": "5e4d5f10-9800-4ef8-9a2a-eb94104518fe"
   },
   "outputs": [
    {
     "data": {
      "text/plain": [
       "<Axes: xlabel='Credit_Score', ylabel='count'>"
      ]
     },
     "execution_count": 24,
     "metadata": {},
     "output_type": "execute_result"
    },
    {
     "data": {
      "image/png": "[encoded data removed]",
      "text/plain": [
       "<Figure size 640x480 with 1 Axes>"
      ]
     },
     "metadata": {},
     "output_type": "display_data"
    }
   ],
   "source": [
    "import seaborn as sns\n",
    "sns.countplot(df_clear, x= 'Credit_Score')"
   ]
  },
  {
   "cell_type": "code",
   "execution_count": 25,
   "metadata": {
    "colab": {
     "base_uri": "https://localhost:8080/",
     "height": 410
    },
    "id": "0CNsccFj8t_K",
    "outputId": "2d1804b2-2ab5-4fb4-9af8-369ac19334f2"
   },
   "outputs": [
    {
     "data": {
      "text/plain": [
       "<Axes: >"
      ]
     },
     "execution_count": 25,
     "metadata": {},
     "output_type": "execute_result"
    },
    {
     "data": {
      "image/png": "[encoded data removed]",
      "text/plain": [
       "<Figure size 640x480 with 2 Axes>"
      ]
     },
     "metadata": {},
     "output_type": "display_data"
    }
   ],
   "source": [
    "sns.heatmap(df_clear.corr(numeric_only=True))"
   ]
  },
  {
   "cell_type": "code",
   "execution_count": 26,
   "metadata": {
    "colab": {
     "base_uri": "https://localhost:8080/"
    },
    "id": "CNd7uyxhHNIk",
    "outputId": "f8e2c779-cfd4-49b8-ca0e-aef37cb72e8b"
   },
   "outputs": [
    {
     "name": "stdout",
     "output_type": "stream",
     "text": [
      "[] ['Month', 'Occupation', 'Type_of_Loan', 'Credit_Mix', 'Credit_History_Age', 'Payment_of_Min_Amount', 'Payment_Behaviour', 'Credit_Score']\n"
     ]
    }
   ],
   "source": [
    "binary_columns    = [c for c in categorical_columns if data_describe[c]['unique'] == 2]\n",
    "nonbinary_columns = [c for c in categorical_columns if data_describe[c]['unique'] > 2]\n",
    "print(binary_columns, nonbinary_columns)"
   ]
  },
  {
   "cell_type": "code",
   "execution_count": 27,
   "metadata": {
    "colab": {
     "base_uri": "https://localhost:8080/"
    },
    "id": "FelyKNEYIJ7W",
    "outputId": "e92d9c28-e894-400e-9453-d8c13229641e"
   },
   "outputs": [
    {
     "name": "stdout",
     "output_type": "stream",
     "text": [
      "['Good' 'Standard' 'Poor']\n"
     ]
    }
   ],
   "source": [
    "print(df_clear['Credit_Score'].unique())"
   ]
  },
  {
   "cell_type": "code",
   "execution_count": 28,
   "metadata": {
    "colab": {
     "base_uri": "https://localhost:8080/",
     "height": 487
    },
    "id": "3Ig9NofAJbjY",
    "outputId": "dbef2900-6e94-4ab8-f86c-1f8bae12234e"
   },
   "outputs": [
    {
     "data": {
      "text/html": [
       "<div>\n",
       "<style scoped>\n",
       "    .dataframe tbody tr th:only-of-type {\n",
       "        vertical-align: middle;\n",
       "    }\n",
       "\n",
       "    .dataframe tbody tr th {\n",
       "        vertical-align: top;\n",
       "    }\n",
       "\n",
       "    .dataframe thead th {\n",
       "        text-align: right;\n",
       "    }\n",
       "</style>\n",
       "<table border=\"1\" class=\"dataframe\">\n",
       "  <thead>\n",
       "    <tr style=\"text-align: right;\">\n",
       "      <th></th>\n",
       "      <th>Age</th>\n",
       "      <th>Annual_Income</th>\n",
       "      <th>Monthly_Inhand_Salary</th>\n",
       "      <th>Num_Bank_Accounts</th>\n",
       "      <th>Num_Credit_Card</th>\n",
       "      <th>Interest_Rate</th>\n",
       "      <th>Num_of_Loan</th>\n",
       "      <th>Delay_from_due_date</th>\n",
       "      <th>Num_of_Delayed_Payment</th>\n",
       "      <th>Changed_Credit_Limit</th>\n",
       "      <th>...</th>\n",
       "      <th>NM</th>\n",
       "      <th>No</th>\n",
       "      <th>Yes</th>\n",
       "      <th>High_spent_Large_value_payments</th>\n",
       "      <th>High_spent_Medium_value_payments</th>\n",
       "      <th>High_spent_Small_value_payments</th>\n",
       "      <th>Low_spent_Large_value_payments</th>\n",
       "      <th>Low_spent_Medium_value_payments</th>\n",
       "      <th>Low_spent_Small_value_payments</th>\n",
       "      <th>Credit_Score</th>\n",
       "    </tr>\n",
       "  </thead>\n",
       "  <tbody>\n",
       "    <tr>\n",
       "      <th>0</th>\n",
       "      <td>23</td>\n",
       "      <td>19114.12</td>\n",
       "      <td>1824.843333</td>\n",
       "      <td>3</td>\n",
       "      <td>4</td>\n",
       "      <td>3</td>\n",
       "      <td>4</td>\n",
       "      <td>3</td>\n",
       "      <td>7.000000</td>\n",
       "      <td>11.27</td>\n",
       "      <td>...</td>\n",
       "      <td>False</td>\n",
       "      <td>True</td>\n",
       "      <td>False</td>\n",
       "      <td>False</td>\n",
       "      <td>False</td>\n",
       "      <td>True</td>\n",
       "      <td>False</td>\n",
       "      <td>False</td>\n",
       "      <td>False</td>\n",
       "      <td>0</td>\n",
       "    </tr>\n",
       "    <tr>\n",
       "      <th>1</th>\n",
       "      <td>23</td>\n",
       "      <td>19114.12</td>\n",
       "      <td>3629.593863</td>\n",
       "      <td>3</td>\n",
       "      <td>4</td>\n",
       "      <td>3</td>\n",
       "      <td>4</td>\n",
       "      <td>-1</td>\n",
       "      <td>17.021529</td>\n",
       "      <td>11.27</td>\n",
       "      <td>...</td>\n",
       "      <td>False</td>\n",
       "      <td>True</td>\n",
       "      <td>False</td>\n",
       "      <td>False</td>\n",
       "      <td>False</td>\n",
       "      <td>False</td>\n",
       "      <td>True</td>\n",
       "      <td>False</td>\n",
       "      <td>False</td>\n",
       "      <td>0</td>\n",
       "    </tr>\n",
       "    <tr>\n",
       "      <th>2</th>\n",
       "      <td>23</td>\n",
       "      <td>19114.12</td>\n",
       "      <td>3629.593863</td>\n",
       "      <td>3</td>\n",
       "      <td>4</td>\n",
       "      <td>3</td>\n",
       "      <td>4</td>\n",
       "      <td>5</td>\n",
       "      <td>4.000000</td>\n",
       "      <td>6.27</td>\n",
       "      <td>...</td>\n",
       "      <td>False</td>\n",
       "      <td>True</td>\n",
       "      <td>False</td>\n",
       "      <td>False</td>\n",
       "      <td>False</td>\n",
       "      <td>False</td>\n",
       "      <td>False</td>\n",
       "      <td>False</td>\n",
       "      <td>True</td>\n",
       "      <td>0</td>\n",
       "    </tr>\n",
       "    <tr>\n",
       "      <th>3</th>\n",
       "      <td>23</td>\n",
       "      <td>19114.12</td>\n",
       "      <td>1824.843333</td>\n",
       "      <td>3</td>\n",
       "      <td>4</td>\n",
       "      <td>3</td>\n",
       "      <td>4</td>\n",
       "      <td>6</td>\n",
       "      <td>17.021529</td>\n",
       "      <td>11.27</td>\n",
       "      <td>...</td>\n",
       "      <td>False</td>\n",
       "      <td>True</td>\n",
       "      <td>False</td>\n",
       "      <td>False</td>\n",
       "      <td>True</td>\n",
       "      <td>False</td>\n",
       "      <td>False</td>\n",
       "      <td>False</td>\n",
       "      <td>False</td>\n",
       "      <td>0</td>\n",
       "    </tr>\n",
       "    <tr>\n",
       "      <th>4</th>\n",
       "      <td>23</td>\n",
       "      <td>19114.12</td>\n",
       "      <td>3629.593863</td>\n",
       "      <td>3</td>\n",
       "      <td>4</td>\n",
       "      <td>3</td>\n",
       "      <td>4</td>\n",
       "      <td>8</td>\n",
       "      <td>4.000000</td>\n",
       "      <td>9.27</td>\n",
       "      <td>...</td>\n",
       "      <td>False</td>\n",
       "      <td>True</td>\n",
       "      <td>False</td>\n",
       "      <td>False</td>\n",
       "      <td>False</td>\n",
       "      <td>False</td>\n",
       "      <td>False</td>\n",
       "      <td>False</td>\n",
       "      <td>True</td>\n",
       "      <td>0</td>\n",
       "    </tr>\n",
       "    <tr>\n",
       "      <th>...</th>\n",
       "      <td>...</td>\n",
       "      <td>...</td>\n",
       "      <td>...</td>\n",
       "      <td>...</td>\n",
       "      <td>...</td>\n",
       "      <td>...</td>\n",
       "      <td>...</td>\n",
       "      <td>...</td>\n",
       "      <td>...</td>\n",
       "      <td>...</td>\n",
       "      <td>...</td>\n",
       "      <td>...</td>\n",
       "      <td>...</td>\n",
       "      <td>...</td>\n",
       "      <td>...</td>\n",
       "      <td>...</td>\n",
       "      <td>...</td>\n",
       "      <td>...</td>\n",
       "      <td>...</td>\n",
       "      <td>...</td>\n",
       "      <td>...</td>\n",
       "    </tr>\n",
       "    <tr>\n",
       "      <th>87882</th>\n",
       "      <td>25</td>\n",
       "      <td>39628.99</td>\n",
       "      <td>3359.415833</td>\n",
       "      <td>4</td>\n",
       "      <td>6</td>\n",
       "      <td>7</td>\n",
       "      <td>2</td>\n",
       "      <td>20</td>\n",
       "      <td>6.000000</td>\n",
       "      <td>9.50</td>\n",
       "      <td>...</td>\n",
       "      <td>False</td>\n",
       "      <td>True</td>\n",
       "      <td>False</td>\n",
       "      <td>False</td>\n",
       "      <td>True</td>\n",
       "      <td>False</td>\n",
       "      <td>False</td>\n",
       "      <td>False</td>\n",
       "      <td>False</td>\n",
       "      <td>2</td>\n",
       "    </tr>\n",
       "    <tr>\n",
       "      <th>87883</th>\n",
       "      <td>25</td>\n",
       "      <td>39628.99</td>\n",
       "      <td>3359.415833</td>\n",
       "      <td>4</td>\n",
       "      <td>6</td>\n",
       "      <td>7</td>\n",
       "      <td>2</td>\n",
       "      <td>23</td>\n",
       "      <td>7.000000</td>\n",
       "      <td>11.50</td>\n",
       "      <td>...</td>\n",
       "      <td>False</td>\n",
       "      <td>True</td>\n",
       "      <td>False</td>\n",
       "      <td>True</td>\n",
       "      <td>False</td>\n",
       "      <td>False</td>\n",
       "      <td>False</td>\n",
       "      <td>False</td>\n",
       "      <td>False</td>\n",
       "      <td>2</td>\n",
       "    </tr>\n",
       "    <tr>\n",
       "      <th>87884</th>\n",
       "      <td>25</td>\n",
       "      <td>39628.99</td>\n",
       "      <td>3359.415833</td>\n",
       "      <td>4</td>\n",
       "      <td>6</td>\n",
       "      <td>7</td>\n",
       "      <td>2</td>\n",
       "      <td>18</td>\n",
       "      <td>7.000000</td>\n",
       "      <td>11.50</td>\n",
       "      <td>...</td>\n",
       "      <td>False</td>\n",
       "      <td>True</td>\n",
       "      <td>False</td>\n",
       "      <td>False</td>\n",
       "      <td>True</td>\n",
       "      <td>False</td>\n",
       "      <td>False</td>\n",
       "      <td>False</td>\n",
       "      <td>False</td>\n",
       "      <td>2</td>\n",
       "    </tr>\n",
       "    <tr>\n",
       "      <th>87885</th>\n",
       "      <td>25</td>\n",
       "      <td>39628.99</td>\n",
       "      <td>3359.415833</td>\n",
       "      <td>4</td>\n",
       "      <td>6</td>\n",
       "      <td>7</td>\n",
       "      <td>2</td>\n",
       "      <td>20</td>\n",
       "      <td>17.021529</td>\n",
       "      <td>11.50</td>\n",
       "      <td>...</td>\n",
       "      <td>False</td>\n",
       "      <td>True</td>\n",
       "      <td>False</td>\n",
       "      <td>False</td>\n",
       "      <td>False</td>\n",
       "      <td>False</td>\n",
       "      <td>True</td>\n",
       "      <td>False</td>\n",
       "      <td>False</td>\n",
       "      <td>1</td>\n",
       "    </tr>\n",
       "    <tr>\n",
       "      <th>87886</th>\n",
       "      <td>25</td>\n",
       "      <td>39628.99</td>\n",
       "      <td>3359.415833</td>\n",
       "      <td>4</td>\n",
       "      <td>6</td>\n",
       "      <td>7</td>\n",
       "      <td>2</td>\n",
       "      <td>18</td>\n",
       "      <td>6.000000</td>\n",
       "      <td>11.50</td>\n",
       "      <td>...</td>\n",
       "      <td>False</td>\n",
       "      <td>True</td>\n",
       "      <td>False</td>\n",
       "      <td>False</td>\n",
       "      <td>False</td>\n",
       "      <td>False</td>\n",
       "      <td>False</td>\n",
       "      <td>False</td>\n",
       "      <td>True</td>\n",
       "      <td>2</td>\n",
       "    </tr>\n",
       "  </tbody>\n",
       "</table>\n",
       "<p>87887 rows × 48 columns</p>\n",
       "</div>"
      ],
      "text/plain": [
       "       Age  Annual_Income  Monthly_Inhand_Salary  Num_Bank_Accounts  \\\n",
       "0       23       19114.12            1824.843333                  3   \n",
       "1       23       19114.12            3629.593863                  3   \n",
       "2       23       19114.12            3629.593863                  3   \n",
       "3       23       19114.12            1824.843333                  3   \n",
       "4       23       19114.12            3629.593863                  3   \n",
       "...    ...            ...                    ...                ...   \n",
       "87882   25       39628.99            3359.415833                  4   \n",
       "87883   25       39628.99            3359.415833                  4   \n",
       "87884   25       39628.99            3359.415833                  4   \n",
       "87885   25       39628.99            3359.415833                  4   \n",
       "87886   25       39628.99            3359.415833                  4   \n",
       "\n",
       "       Num_Credit_Card  Interest_Rate  Num_of_Loan  Delay_from_due_date  \\\n",
       "0                    4              3            4                    3   \n",
       "1                    4              3            4                   -1   \n",
       "2                    4              3            4                    5   \n",
       "3                    4              3            4                    6   \n",
       "4                    4              3            4                    8   \n",
       "...                ...            ...          ...                  ...   \n",
       "87882                6              7            2                   20   \n",
       "87883                6              7            2                   23   \n",
       "87884                6              7            2                   18   \n",
       "87885                6              7            2                   20   \n",
       "87886                6              7            2                   18   \n",
       "\n",
       "       Num_of_Delayed_Payment  Changed_Credit_Limit  ...     NM    No    Yes  \\\n",
       "0                    7.000000                 11.27  ...  False  True  False   \n",
       "1                   17.021529                 11.27  ...  False  True  False   \n",
       "2                    4.000000                  6.27  ...  False  True  False   \n",
       "3                   17.021529                 11.27  ...  False  True  False   \n",
       "4                    4.000000                  9.27  ...  False  True  False   \n",
       "...                       ...                   ...  ...    ...   ...    ...   \n",
       "87882                6.000000                  9.50  ...  False  True  False   \n",
       "87883                7.000000                 11.50  ...  False  True  False   \n",
       "87884                7.000000                 11.50  ...  False  True  False   \n",
       "87885               17.021529                 11.50  ...  False  True  False   \n",
       "87886                6.000000                 11.50  ...  False  True  False   \n",
       "\n",
       "       High_spent_Large_value_payments  High_spent_Medium_value_payments  \\\n",
       "0                                False                             False   \n",
       "1                                False                             False   \n",
       "2                                False                             False   \n",
       "3                                False                              True   \n",
       "4                                False                             False   \n",
       "...                                ...                               ...   \n",
       "87882                            False                              True   \n",
       "87883                             True                             False   \n",
       "87884                            False                              True   \n",
       "87885                            False                             False   \n",
       "87886                            False                             False   \n",
       "\n",
       "       High_spent_Small_value_payments  Low_spent_Large_value_payments  \\\n",
       "0                                 True                           False   \n",
       "1                                False                            True   \n",
       "2                                False                           False   \n",
       "3                                False                           False   \n",
       "4                                False                           False   \n",
       "...                                ...                             ...   \n",
       "87882                            False                           False   \n",
       "87883                            False                           False   \n",
       "87884                            False                           False   \n",
       "87885                            False                            True   \n",
       "87886                            False                           False   \n",
       "\n",
       "       Low_spent_Medium_value_payments  Low_spent_Small_value_payments  \\\n",
       "0                                False                           False   \n",
       "1                                False                           False   \n",
       "2                                False                            True   \n",
       "3                                False                           False   \n",
       "4                                False                            True   \n",
       "...                                ...                             ...   \n",
       "87882                            False                           False   \n",
       "87883                            False                           False   \n",
       "87884                            False                           False   \n",
       "87885                            False                           False   \n",
       "87886                            False                            True   \n",
       "\n",
       "       Credit_Score  \n",
       "0                 0  \n",
       "1                 0  \n",
       "2                 0  \n",
       "3                 0  \n",
       "4                 0  \n",
       "...             ...  \n",
       "87882             2  \n",
       "87883             2  \n",
       "87884             2  \n",
       "87885             1  \n",
       "87886             2  \n",
       "\n",
       "[87887 rows x 48 columns]"
      ]
     },
     "execution_count": 28,
     "metadata": {},
     "output_type": "execute_result"
    }
   ],
   "source": [
    "Month = {'January': 'winter',\n",
    "         'February': 'winter',\n",
    "         'March': 'spring',\n",
    "         'April': 'spring',\n",
    "         'May': 'spring',\n",
    "         'June': 'summer',\n",
    "         'July': 'summer',\n",
    "         'August': 'summer'}\n",
    "\n",
    "# Переводим Month в бинарные признаки\n",
    "df_month = df_clear['Month'].map(Month)\n",
    "df_dummies_month = pd.get_dummies(df_month)\n",
    "df_bin = pd.concat((df_clear, df_dummies_month), axis=1)\n",
    "df_bin = df_bin.drop(['Month'], axis=1)\n",
    "\n",
    "# Переводим Occupation в бинарные признаки\n",
    "df_occ = pd.get_dummies(df_clear['Occupation'])\n",
    "df_bin = pd.concat((df_bin, df_occ), axis=1)\n",
    "df_bin = df_bin.drop(['Occupation'], axis=1)\n",
    "\n",
    "# Т.к. у нас есть признак Total_EMI_per_month - означающий общую сумму платежа в месяц,\n",
    "# то признак Type_of_loan не несет дополнительной полезной информации, а только\n",
    "# увеличивает сложность предобработки. Поэтому этот признак целесообразно убрать.\n",
    "df_bin = df_bin.drop(['Type_of_Loan'], axis=1)\n",
    "\n",
    "# Переводим признак Credit_Mix\n",
    "df_mix = pd.get_dummies(df_bin['Credit_Mix'])\n",
    "df_bin = pd.concat((df_bin, df_mix), axis=1)\n",
    "df_bin = df_bin.drop(['Credit_Mix'], axis=1)\n",
    "\n",
    "# Credit_History_Age\n",
    "import re\n",
    "def date_to_num(s):\n",
    "    elem = re.findall('\\d+', s)\n",
    "    return int(elem[0]) * 12 + int(elem[1])\n",
    "\n",
    "df_age = df_bin['Credit_History_Age'].map(date_to_num)\n",
    "df_bin = df_bin.drop(['Credit_History_Age'], axis=1)\n",
    "df_bin = pd.concat((df_bin, df_age), axis=1)\n",
    "\n",
    "# Payment_of_Min_Amount\n",
    "df_pay = pd.get_dummies(df_bin['Payment_of_Min_Amount'])\n",
    "df_bin = pd.concat((df_bin, df_pay), axis=1)\n",
    "df_bin = df_bin.drop(['Payment_of_Min_Amount'], axis=1)\n",
    "\n",
    "# Payment_Behaviour\n",
    "df_pay = pd.get_dummies(df_bin['Payment_Behaviour'])\n",
    "df_bin = pd.concat((df_bin, df_pay), axis=1)\n",
    "df_bin = df_bin.drop(['Payment_Behaviour'], axis=1)\n",
    "\n",
    "# Credit_Score\n",
    "Credit_Score = {\n",
    "    'Good': 0,\n",
    "    'Standard': 1,\n",
    "    'Poor': 2\n",
    "}\n",
    "\n",
    "df_score = df_clear['Credit_Score'].map(Credit_Score)\n",
    "df_bin = df_bin.drop(['Credit_Score'], axis=1)\n",
    "df_bin = pd.concat((df_bin, df_score), axis=1)\n",
    "df_bin.reset_index(drop=True, inplace=True)\n",
    "\n",
    "df_bin"
   ]
  },
  {
   "cell_type": "markdown",
   "metadata": {
    "id": "lb1lUS5okrgN"
   },
   "source": [
    "# Подготовка данных"
   ]
  },
  {
   "cell_type": "code",
   "execution_count": 29,
   "metadata": {
    "colab": {
     "base_uri": "https://localhost:8080/",
     "height": 463
    },
    "id": "pIhjyeLkI0Fx",
    "outputId": "0565b069-ef6a-48ad-9807-701da58e4086"
   },
   "outputs": [
    {
     "data": {
      "text/html": [
       "<div>\n",
       "<style scoped>\n",
       "    .dataframe tbody tr th:only-of-type {\n",
       "        vertical-align: middle;\n",
       "    }\n",
       "\n",
       "    .dataframe tbody tr th {\n",
       "        vertical-align: top;\n",
       "    }\n",
       "\n",
       "    .dataframe thead th {\n",
       "        text-align: right;\n",
       "    }\n",
       "</style>\n",
       "<table border=\"1\" class=\"dataframe\">\n",
       "  <thead>\n",
       "    <tr style=\"text-align: right;\">\n",
       "      <th></th>\n",
       "      <th>Age</th>\n",
       "      <th>Annual_Income</th>\n",
       "      <th>Monthly_Inhand_Salary</th>\n",
       "      <th>Num_Bank_Accounts</th>\n",
       "      <th>Num_Credit_Card</th>\n",
       "      <th>Interest_Rate</th>\n",
       "      <th>Num_of_Loan</th>\n",
       "      <th>Delay_from_due_date</th>\n",
       "      <th>Num_of_Delayed_Payment</th>\n",
       "      <th>Changed_Credit_Limit</th>\n",
       "      <th>...</th>\n",
       "      <th>NM</th>\n",
       "      <th>No</th>\n",
       "      <th>Yes</th>\n",
       "      <th>High_spent_Large_value_payments</th>\n",
       "      <th>High_spent_Medium_value_payments</th>\n",
       "      <th>High_spent_Small_value_payments</th>\n",
       "      <th>Low_spent_Large_value_payments</th>\n",
       "      <th>Low_spent_Medium_value_payments</th>\n",
       "      <th>Low_spent_Small_value_payments</th>\n",
       "      <th>Credit_Score</th>\n",
       "    </tr>\n",
       "  </thead>\n",
       "  <tbody>\n",
       "    <tr>\n",
       "      <th>count</th>\n",
       "      <td>8.788700e+04</td>\n",
       "      <td>8.788700e+04</td>\n",
       "      <td>8.788700e+04</td>\n",
       "      <td>8.788700e+04</td>\n",
       "      <td>8.788700e+04</td>\n",
       "      <td>8.788700e+04</td>\n",
       "      <td>8.788700e+04</td>\n",
       "      <td>8.788700e+04</td>\n",
       "      <td>8.788700e+04</td>\n",
       "      <td>8.788700e+04</td>\n",
       "      <td>...</td>\n",
       "      <td>8.788700e+04</td>\n",
       "      <td>8.788700e+04</td>\n",
       "      <td>8.788700e+04</td>\n",
       "      <td>8.788700e+04</td>\n",
       "      <td>8.788700e+04</td>\n",
       "      <td>8.788700e+04</td>\n",
       "      <td>8.788700e+04</td>\n",
       "      <td>8.788700e+04</td>\n",
       "      <td>8.788700e+04</td>\n",
       "      <td>8.788700e+04</td>\n",
       "    </tr>\n",
       "    <tr>\n",
       "      <th>mean</th>\n",
       "      <td>-1.765705e-16</td>\n",
       "      <td>8.408120e-18</td>\n",
       "      <td>3.738380e-16</td>\n",
       "      <td>1.762471e-17</td>\n",
       "      <td>1.220794e-17</td>\n",
       "      <td>-1.536099e-18</td>\n",
       "      <td>3.524943e-17</td>\n",
       "      <td>1.487590e-17</td>\n",
       "      <td>1.054249e-16</td>\n",
       "      <td>7.373274e-17</td>\n",
       "      <td>...</td>\n",
       "      <td>3.557282e-17</td>\n",
       "      <td>3.557282e-17</td>\n",
       "      <td>-1.616946e-19</td>\n",
       "      <td>-6.694157e-17</td>\n",
       "      <td>4.155552e-17</td>\n",
       "      <td>-3.557282e-17</td>\n",
       "      <td>1.681624e-17</td>\n",
       "      <td>1.907996e-17</td>\n",
       "      <td>-2.199047e-17</td>\n",
       "      <td>-1.591075e-16</td>\n",
       "    </tr>\n",
       "    <tr>\n",
       "      <th>std</th>\n",
       "      <td>1.000000e+00</td>\n",
       "      <td>1.000000e+00</td>\n",
       "      <td>1.000000e+00</td>\n",
       "      <td>1.000000e+00</td>\n",
       "      <td>1.000000e+00</td>\n",
       "      <td>1.000000e+00</td>\n",
       "      <td>1.000000e+00</td>\n",
       "      <td>1.000000e+00</td>\n",
       "      <td>1.000000e+00</td>\n",
       "      <td>1.000000e+00</td>\n",
       "      <td>...</td>\n",
       "      <td>1.000000e+00</td>\n",
       "      <td>1.000000e+00</td>\n",
       "      <td>1.000000e+00</td>\n",
       "      <td>1.000000e+00</td>\n",
       "      <td>1.000000e+00</td>\n",
       "      <td>1.000000e+00</td>\n",
       "      <td>1.000000e+00</td>\n",
       "      <td>1.000000e+00</td>\n",
       "      <td>1.000000e+00</td>\n",
       "      <td>1.000000e+00</td>\n",
       "    </tr>\n",
       "    <tr>\n",
       "      <th>min</th>\n",
       "      <td>-1.789913e+00</td>\n",
       "      <td>-1.395359e-01</td>\n",
       "      <td>-1.304245e+00</td>\n",
       "      <td>-1.719330e-01</td>\n",
       "      <td>-1.667930e-01</td>\n",
       "      <td>-1.527028e-01</td>\n",
       "      <td>-1.450019e+00</td>\n",
       "      <td>-1.762692e+00</td>\n",
       "      <td>-3.014487e-01</td>\n",
       "      <td>-2.510734e+00</td>\n",
       "      <td>...</td>\n",
       "      <td>-3.687263e-01</td>\n",
       "      <td>-7.374239e-01</td>\n",
       "      <td>-1.057790e+00</td>\n",
       "      <td>-3.945968e-01</td>\n",
       "      <td>-4.636417e-01</td>\n",
       "      <td>-3.595874e-01</td>\n",
       "      <td>-3.419114e-01</td>\n",
       "      <td>-4.014062e-01</td>\n",
       "      <td>-7.024434e-01</td>\n",
       "      <td>-1.660006e+00</td>\n",
       "    </tr>\n",
       "    <tr>\n",
       "      <th>25%</th>\n",
       "      <td>-8.620859e-01</td>\n",
       "      <td>-1.173198e-01</td>\n",
       "      <td>-7.923917e-01</td>\n",
       "      <td>-1.028455e-01</td>\n",
       "      <td>-1.331915e-01</td>\n",
       "      <td>-1.296455e-01</td>\n",
       "      <td>-6.311863e-01</td>\n",
       "      <td>-7.520489e-01</td>\n",
       "      <td>-1.330641e-01</td>\n",
       "      <td>-7.365494e-01</td>\n",
       "      <td>...</td>\n",
       "      <td>-3.687263e-01</td>\n",
       "      <td>-7.374239e-01</td>\n",
       "      <td>-1.057790e+00</td>\n",
       "      <td>-3.945968e-01</td>\n",
       "      <td>-4.636417e-01</td>\n",
       "      <td>-3.595874e-01</td>\n",
       "      <td>-3.419114e-01</td>\n",
       "      <td>-4.014062e-01</td>\n",
       "      <td>-7.024434e-01</td>\n",
       "      <td>-1.720009e-01</td>\n",
       "    </tr>\n",
       "    <tr>\n",
       "      <th>50%</th>\n",
       "      <td>-2.704186e-02</td>\n",
       "      <td>-8.537511e-02</td>\n",
       "      <td>-1.530784e-01</td>\n",
       "      <td>-6.830177e-02</td>\n",
       "      <td>-1.219910e-01</td>\n",
       "      <td>-1.131760e-01</td>\n",
       "      <td>-2.217698e-01</td>\n",
       "      <td>-2.130392e-01</td>\n",
       "      <td>-2.080768e-02</td>\n",
       "      <td>-1.228656e-01</td>\n",
       "      <td>...</td>\n",
       "      <td>-3.687263e-01</td>\n",
       "      <td>-7.374239e-01</td>\n",
       "      <td>9.453561e-01</td>\n",
       "      <td>-3.945968e-01</td>\n",
       "      <td>-4.636417e-01</td>\n",
       "      <td>-3.595874e-01</td>\n",
       "      <td>-3.419114e-01</td>\n",
       "      <td>-4.014062e-01</td>\n",
       "      <td>-7.024434e-01</td>\n",
       "      <td>-1.720009e-01</td>\n",
       "    </tr>\n",
       "    <tr>\n",
       "      <th>75%</th>\n",
       "      <td>8.080021e-01</td>\n",
       "      <td>-2.228003e-02</td>\n",
       "      <td>4.369479e-01</td>\n",
       "      <td>-5.102991e-02</td>\n",
       "      <td>-9.959007e-02</td>\n",
       "      <td>-9.011871e-02</td>\n",
       "      <td>5.970632e-01</td>\n",
       "      <td>4.607229e-01</td>\n",
       "      <td>3.532053e-02</td>\n",
       "      <td>6.423816e-01</td>\n",
       "      <td>...</td>\n",
       "      <td>-3.687263e-01</td>\n",
       "      <td>1.356057e+00</td>\n",
       "      <td>9.453561e-01</td>\n",
       "      <td>-3.945968e-01</td>\n",
       "      <td>-4.636417e-01</td>\n",
       "      <td>-3.595874e-01</td>\n",
       "      <td>-3.419114e-01</td>\n",
       "      <td>-4.014062e-01</td>\n",
       "      <td>1.423586e+00</td>\n",
       "      <td>1.316004e+00</td>\n",
       "    </tr>\n",
       "    <tr>\n",
       "      <th>max</th>\n",
       "      <td>6.096614e+00</td>\n",
       "      <td>2.338097e+01</td>\n",
       "      <td>3.872494e+00</td>\n",
       "      <td>1.875804e+01</td>\n",
       "      <td>1.300497e+01</td>\n",
       "      <td>1.404401e+01</td>\n",
       "      <td>2.234729e+00</td>\n",
       "      <td>3.088395e+00</td>\n",
       "      <td>3.210323e+01</td>\n",
       "      <td>3.874251e+00</td>\n",
       "      <td>...</td>\n",
       "      <td>2.712008e+00</td>\n",
       "      <td>1.356057e+00</td>\n",
       "      <td>9.453561e-01</td>\n",
       "      <td>2.534204e+00</td>\n",
       "      <td>2.156813e+00</td>\n",
       "      <td>2.780933e+00</td>\n",
       "      <td>2.924701e+00</td>\n",
       "      <td>2.491213e+00</td>\n",
       "      <td>1.423586e+00</td>\n",
       "      <td>1.316004e+00</td>\n",
       "    </tr>\n",
       "  </tbody>\n",
       "</table>\n",
       "<p>8 rows × 48 columns</p>\n",
       "</div>"
      ],
      "text/plain": [
       "                Age  Annual_Income  Monthly_Inhand_Salary  Num_Bank_Accounts  \\\n",
       "count  8.788700e+04   8.788700e+04           8.788700e+04       8.788700e+04   \n",
       "mean  -1.765705e-16   8.408120e-18           3.738380e-16       1.762471e-17   \n",
       "std    1.000000e+00   1.000000e+00           1.000000e+00       1.000000e+00   \n",
       "min   -1.789913e+00  -1.395359e-01          -1.304245e+00      -1.719330e-01   \n",
       "25%   -8.620859e-01  -1.173198e-01          -7.923917e-01      -1.028455e-01   \n",
       "50%   -2.704186e-02  -8.537511e-02          -1.530784e-01      -6.830177e-02   \n",
       "75%    8.080021e-01  -2.228003e-02           4.369479e-01      -5.102991e-02   \n",
       "max    6.096614e+00   2.338097e+01           3.872494e+00       1.875804e+01   \n",
       "\n",
       "       Num_Credit_Card  Interest_Rate   Num_of_Loan  Delay_from_due_date  \\\n",
       "count     8.788700e+04   8.788700e+04  8.788700e+04         8.788700e+04   \n",
       "mean      1.220794e-17  -1.536099e-18  3.524943e-17         1.487590e-17   \n",
       "std       1.000000e+00   1.000000e+00  1.000000e+00         1.000000e+00   \n",
       "min      -1.667930e-01  -1.527028e-01 -1.450019e+00        -1.762692e+00   \n",
       "25%      -1.331915e-01  -1.296455e-01 -6.311863e-01        -7.520489e-01   \n",
       "50%      -1.219910e-01  -1.131760e-01 -2.217698e-01        -2.130392e-01   \n",
       "75%      -9.959007e-02  -9.011871e-02  5.970632e-01         4.607229e-01   \n",
       "max       1.300497e+01   1.404401e+01  2.234729e+00         3.088395e+00   \n",
       "\n",
       "       Num_of_Delayed_Payment  Changed_Credit_Limit  ...            NM  \\\n",
       "count            8.788700e+04          8.788700e+04  ...  8.788700e+04   \n",
       "mean             1.054249e-16          7.373274e-17  ...  3.557282e-17   \n",
       "std              1.000000e+00          1.000000e+00  ...  1.000000e+00   \n",
       "min             -3.014487e-01         -2.510734e+00  ... -3.687263e-01   \n",
       "25%             -1.330641e-01         -7.365494e-01  ... -3.687263e-01   \n",
       "50%             -2.080768e-02         -1.228656e-01  ... -3.687263e-01   \n",
       "75%              3.532053e-02          6.423816e-01  ... -3.687263e-01   \n",
       "max              3.210323e+01          3.874251e+00  ...  2.712008e+00   \n",
       "\n",
       "                 No           Yes  High_spent_Large_value_payments  \\\n",
       "count  8.788700e+04  8.788700e+04                     8.788700e+04   \n",
       "mean   3.557282e-17 -1.616946e-19                    -6.694157e-17   \n",
       "std    1.000000e+00  1.000000e+00                     1.000000e+00   \n",
       "min   -7.374239e-01 -1.057790e+00                    -3.945968e-01   \n",
       "25%   -7.374239e-01 -1.057790e+00                    -3.945968e-01   \n",
       "50%   -7.374239e-01  9.453561e-01                    -3.945968e-01   \n",
       "75%    1.356057e+00  9.453561e-01                    -3.945968e-01   \n",
       "max    1.356057e+00  9.453561e-01                     2.534204e+00   \n",
       "\n",
       "       High_spent_Medium_value_payments  High_spent_Small_value_payments  \\\n",
       "count                      8.788700e+04                     8.788700e+04   \n",
       "mean                       4.155552e-17                    -3.557282e-17   \n",
       "std                        1.000000e+00                     1.000000e+00   \n",
       "min                       -4.636417e-01                    -3.595874e-01   \n",
       "25%                       -4.636417e-01                    -3.595874e-01   \n",
       "50%                       -4.636417e-01                    -3.595874e-01   \n",
       "75%                       -4.636417e-01                    -3.595874e-01   \n",
       "max                        2.156813e+00                     2.780933e+00   \n",
       "\n",
       "       Low_spent_Large_value_payments  Low_spent_Medium_value_payments  \\\n",
       "count                    8.788700e+04                     8.788700e+04   \n",
       "mean                     1.681624e-17                     1.907996e-17   \n",
       "std                      1.000000e+00                     1.000000e+00   \n",
       "min                     -3.419114e-01                    -4.014062e-01   \n",
       "25%                     -3.419114e-01                    -4.014062e-01   \n",
       "50%                     -3.419114e-01                    -4.014062e-01   \n",
       "75%                     -3.419114e-01                    -4.014062e-01   \n",
       "max                      2.924701e+00                     2.491213e+00   \n",
       "\n",
       "       Low_spent_Small_value_payments  Credit_Score  \n",
       "count                    8.788700e+04  8.788700e+04  \n",
       "mean                    -2.199047e-17 -1.591075e-16  \n",
       "std                      1.000000e+00  1.000000e+00  \n",
       "min                     -7.024434e-01 -1.660006e+00  \n",
       "25%                     -7.024434e-01 -1.720009e-01  \n",
       "50%                     -7.024434e-01 -1.720009e-01  \n",
       "75%                      1.423586e+00  1.316004e+00  \n",
       "max                      1.423586e+00  1.316004e+00  \n",
       "\n",
       "[8 rows x 48 columns]"
      ]
     },
     "execution_count": 29,
     "metadata": {},
     "output_type": "execute_result"
    }
   ],
   "source": [
    "categorical_columns = [c for c in df_bin.columns if df_bin[c].dtype.name == 'object']\n",
    "numerical_columns   = [c for c in df_bin.columns if df_bin[c].dtype.name != 'object']\n",
    "binary_columns    = [c for c in categorical_columns if data_describe[c]['unique'] == 2]\n",
    "nonbinary_columns = [c for c in categorical_columns if data_describe[c]['unique'] > 2]\n",
    "\n",
    "data_numerical = df_bin[numerical_columns]\n",
    "data_nonbinary = df_bin[nonbinary_columns]\n",
    "\n",
    "data_numerical = (data_numerical - data_numerical.mean(axis = 0))/data_numerical.std(axis = 0)\n",
    "data_numerical.describe()"
   ]
  },
  {
   "cell_type": "code",
   "execution_count": 30,
   "metadata": {
    "colab": {
     "base_uri": "https://localhost:8080/"
    },
    "id": "5rLhkcnZouDG",
    "outputId": "36b0fec2-21bc-4fe0-ee03-19aa91a39c88"
   },
   "outputs": [
    {
     "name": "stdout",
     "output_type": "stream",
     "text": [
      "(87887, 48)\n"
     ]
    }
   ],
   "source": [
    "data = pd.concat((data_numerical, data_nonbinary, df_bin[binary_columns]), axis = 1)\n",
    "print(data.shape)"
   ]
  },
  {
   "cell_type": "code",
   "execution_count": 31,
   "metadata": {
    "id": "hthUI4u4oNes"
   },
   "outputs": [],
   "source": [
    "X = data.drop('Credit_Score', axis=1)\n",
    "Y = df_bin['Credit_Score']"
   ]
  },
  {
   "cell_type": "code",
   "execution_count": 32,
   "metadata": {
    "id": "UWvaASlXpgr5"
   },
   "outputs": [],
   "source": [
    "from sklearn.model_selection import train_test_split\n",
    "N_train = int(len(X) * 0.8)\n",
    "N_test = len(X) - N_train\n",
    "X_train, X_test, Y_train, Y_test = train_test_split(X, Y,\n",
    "                                                    train_size = N_train, test_size = N_test,\n",
    "                                                    stratify = Y, random_state = 15)"
   ]
  },
  {
   "cell_type": "code",
   "execution_count": 33,
   "metadata": {
    "id": "JmAWBD7PpkWW"
   },
   "outputs": [],
   "source": [
    "from sklearn.preprocessing import StandardScaler\n",
    "sc = StandardScaler()\n",
    "X_train = sc.fit_transform(X_train)\n",
    "X_test = sc.transform(X_test)"
   ]
  },
  {
   "cell_type": "markdown",
   "metadata": {
    "id": "HJg4-8SGpnp7"
   },
   "source": [
    "# K-ближайших"
   ]
  },
  {
   "cell_type": "code",
   "execution_count": 34,
   "metadata": {
    "colab": {
     "base_uri": "https://localhost:8080/"
    },
    "id": "C1dmX3dZpp8D",
    "outputId": "10ef2320-a949-4f57-d0f3-05d2a677b0f7"
   },
   "outputs": [
    {
     "data": {
      "text/html": [
       "<style>#sk-container-id-1 {color: black;}#sk-container-id-1 pre{padding: 0;}#sk-container-id-1 div.sk-toggleable {background-color: white;}#sk-container-id-1 label.sk-toggleable__label {cursor: pointer;display: block;width: 100%;margin-bottom: 0;padding: 0.3em;box-sizing: border-box;text-align: center;}#sk-container-id-1 label.sk-toggleable__label-arrow:before {content: \"▸\";float: left;margin-right: 0.25em;color: #696969;}#sk-container-id-1 label.sk-toggleable__label-arrow:hover:before {color: black;}#sk-container-id-1 div.sk-estimator:hover label.sk-toggleable__label-arrow:before {color: black;}#sk-container-id-1 div.sk-toggleable__content {max-height: 0;max-width: 0;overflow: hidden;text-align: left;background-color: #f0f8ff;}#sk-container-id-1 div.sk-toggleable__content pre {margin: 0.2em;color: black;border-radius: 0.25em;background-color: #f0f8ff;}#sk-container-id-1 input.sk-toggleable__control:checked~div.sk-toggleable__content {max-height: 200px;max-width: 100%;overflow: auto;}#sk-container-id-1 input.sk-toggleable__control:checked~label.sk-toggleable__label-arrow:before {content: \"▾\";}#sk-container-id-1 div.sk-estimator input.sk-toggleable__control:checked~label.sk-toggleable__label {background-color: #d4ebff;}#sk-container-id-1 div.sk-label input.sk-toggleable__control:checked~label.sk-toggleable__label {background-color: #d4ebff;}#sk-container-id-1 input.sk-hidden--visually {border: 0;clip: rect(1px 1px 1px 1px);clip: rect(1px, 1px, 1px, 1px);height: 1px;margin: -1px;overflow: hidden;padding: 0;position: absolute;width: 1px;}#sk-container-id-1 div.sk-estimator {font-family: monospace;background-color: #f0f8ff;border: 1px dotted black;border-radius: 0.25em;box-sizing: border-box;margin-bottom: 0.5em;}#sk-container-id-1 div.sk-estimator:hover {background-color: #d4ebff;}#sk-container-id-1 div.sk-parallel-item::after {content: \"\";width: 100%;border-bottom: 1px solid gray;flex-grow: 1;}#sk-container-id-1 div.sk-label:hover label.sk-toggleable__label {background-color: #d4ebff;}#sk-container-id-1 div.sk-serial::before {content: \"\";position: absolute;border-left: 1px solid gray;box-sizing: border-box;top: 0;bottom: 0;left: 50%;z-index: 0;}#sk-container-id-1 div.sk-serial {display: flex;flex-direction: column;align-items: center;background-color: white;padding-right: 0.2em;padding-left: 0.2em;position: relative;}#sk-container-id-1 div.sk-item {position: relative;z-index: 1;}#sk-container-id-1 div.sk-parallel {display: flex;align-items: stretch;justify-content: center;background-color: white;position: relative;}#sk-container-id-1 div.sk-item::before, #sk-container-id-1 div.sk-parallel-item::before {content: \"\";position: absolute;border-left: 1px solid gray;box-sizing: border-box;top: 0;bottom: 0;left: 50%;z-index: -1;}#sk-container-id-1 div.sk-parallel-item {display: flex;flex-direction: column;z-index: 1;position: relative;background-color: white;}#sk-container-id-1 div.sk-parallel-item:first-child::after {align-self: flex-end;width: 50%;}#sk-container-id-1 div.sk-parallel-item:last-child::after {align-self: flex-start;width: 50%;}#sk-container-id-1 div.sk-parallel-item:only-child::after {width: 0;}#sk-container-id-1 div.sk-dashed-wrapped {border: 1px dashed gray;margin: 0 0.4em 0.5em 0.4em;box-sizing: border-box;padding-bottom: 0.4em;background-color: white;}#sk-container-id-1 div.sk-label label {font-family: monospace;font-weight: bold;display: inline-block;line-height: 1.2em;}#sk-container-id-1 div.sk-label-container {text-align: center;}#sk-container-id-1 div.sk-container {/* jupyter's `normalize.less` sets `[hidden] { display: none; }` but bootstrap.min.css set `[hidden] { display: none !important; }` so we also need the `!important` here to be able to override the default hidden behavior on the sphinx rendered scikit-learn.org. See: https://github.com/scikit-learn/scikit-learn/issues/21755 */display: inline-block !important;position: relative;}#sk-container-id-1 div.sk-text-repr-fallback {display: none;}</style><div id=\"sk-container-id-1\" class=\"sk-top-container\"><div class=\"sk-text-repr-fallback\"><pre>KNeighborsClassifier(n_neighbors=3)</pre><b>In a Jupyter environment, please rerun this cell to show the HTML representation or trust the notebook. <br />On GitHub, the HTML representation is unable to render, please try loading this page with nbviewer.org.</b></div><div class=\"sk-container\" hidden><div class=\"sk-item\"><div class=\"sk-estimator sk-toggleable\"><input class=\"sk-toggleable__control sk-hidden--visually\" id=\"sk-estimator-id-1\" type=\"checkbox\" checked><label for=\"sk-estimator-id-1\" class=\"sk-toggleable__label sk-toggleable__label-arrow\">KNeighborsClassifier</label><div class=\"sk-toggleable__content\"><pre>KNeighborsClassifier(n_neighbors=3)</pre></div></div></div></div></div>"
      ],
      "text/plain": [
       "KNeighborsClassifier(n_neighbors=3)"
      ]
     },
     "execution_count": 34,
     "metadata": {},
     "output_type": "execute_result"
    }
   ],
   "source": [
    "from sklearn.neighbors import KNeighborsClassifier\n",
    "\n",
    "knn = KNeighborsClassifier(n_neighbors = 3)\n",
    "knn.fit(X_train, Y_train)"
   ]
  },
  {
   "cell_type": "code",
   "execution_count": 35,
   "metadata": {
    "id": "sVKn468Tptrt"
   },
   "outputs": [],
   "source": [
    "y_test_predict = knn.predict(X_test)"
   ]
  },
  {
   "cell_type": "code",
   "execution_count": 36,
   "metadata": {
    "colab": {
     "base_uri": "https://localhost:8080/"
    },
    "id": "JaFpLLjqpuAH",
    "outputId": "f60d9d81-1cca-4b30-c686-cca140e1499e"
   },
   "outputs": [
    {
     "name": "stdout",
     "output_type": "stream",
     "text": [
      "Ошибка на обучении: 22.766644384076006%\n",
      "Ошибка на тесте: 41.14802594151781%\n"
     ]
    }
   ],
   "source": [
    "err_test = 1 - knn.score(X_test, Y_test)\n",
    "err_train = 1 - knn.score(X_train, Y_train)\n",
    "print('Ошибка на обучении: ' + str(err_train * 100) + '%')\n",
    "print('Ошибка на тесте: ' + str(err_test * 100) + '%')"
   ]
  },
  {
   "cell_type": "code",
   "execution_count": 37,
   "metadata": {},
   "outputs": [
    {
     "name": "stdout",
     "output_type": "stream",
     "text": [
      "Оценка RAND:  0.5800758799668727\n"
     ]
    }
   ],
   "source": [
    "from sklearn.metrics import rand_score\n",
    "\n",
    "rand_s = rand_score(Y_test, y_test_predict)\n",
    "print('Оценка RAND: ', rand_s)"
   ]
  },
  {
   "cell_type": "markdown",
   "metadata": {
    "id": "AgMkywXVtsW3"
   },
   "source": [
    "Метод k-ближайших не очень подходит для данного датасета"
   ]
  },
  {
   "cell_type": "markdown",
   "metadata": {
    "id": "r3xY1QoTVcLM"
   },
   "source": [
    "# PCA"
   ]
  },
  {
   "cell_type": "code",
   "execution_count": 38,
   "metadata": {
    "id": "kUgwYq5mVbEJ"
   },
   "outputs": [],
   "source": [
    "from sklearn import datasets\n",
    "from sklearn.preprocessing import StandardScaler\n",
    "from sklearn.decomposition import PCA\n",
    "from sklearn.model_selection import train_test_split\n",
    "from sklearn.cluster import KMeans"
   ]
  },
  {
   "cell_type": "code",
   "execution_count": 39,
   "metadata": {
    "id": "C0IZrGbH9m2w"
   },
   "outputs": [],
   "source": [
    "sc = StandardScaler()\n",
    "X_train_std = sc.fit_transform(X_train)\n",
    "X_test_std = sc.transform(X_test)"
   ]
  },
  {
   "cell_type": "code",
   "execution_count": 40,
   "metadata": {
    "id": "JPhw-MjR_OXr"
   },
   "outputs": [],
   "source": [
    "scaled_data_train = pd.DataFrame(X_train_std)\n",
    "scaled_data_test = pd.DataFrame(X_test_std)"
   ]
  },
  {
   "cell_type": "code",
   "execution_count": 41,
   "metadata": {
    "colab": {
     "base_uri": "https://localhost:8080/",
     "height": 290
    },
    "id": "nNra5pkR_QNt",
    "outputId": "758d4a73-587a-4b82-eeb7-1f5378ee93e5"
   },
   "outputs": [
    {
     "data": {
      "text/plain": [
       "<Axes: >"
      ]
     },
     "execution_count": 41,
     "metadata": {},
     "output_type": "execute_result"
    },
    {
     "data": {
      "image/png": "[encoded data removed]",
      "text/plain": [
       "<Figure size 640x480 with 2 Axes>"
      ]
     },
     "metadata": {},
     "output_type": "display_data"
    }
   ],
   "source": [
    "sns.heatmap(scaled_data_train.corr())"
   ]
  },
  {
   "cell_type": "code",
   "execution_count": 42,
   "metadata": {
    "id": "KjJeq7wn_TdQ"
   },
   "outputs": [],
   "source": [
    "cov_mat = np.cov(X_train_std.T)\n",
    "eigen_vals, eigen_vecs = np.linalg.eig(cov_mat)"
   ]
  },
  {
   "cell_type": "code",
   "execution_count": 43,
   "metadata": {
    "colab": {
     "base_uri": "https://localhost:8080/",
     "height": 610
    },
    "id": "tjkNVOev_Y-6",
    "outputId": "db142935-118d-4ada-dcef-c0e45b6b7b59"
   },
   "outputs": [
    {
     "name": "stderr",
     "output_type": "stream",
     "text": [
      "D:\\Anaconda\\Lib\\site-packages\\matplotlib\\transforms.py:762: ComplexWarning: Casting complex values to real discards the imaginary part\n",
      "  points = np.asarray(points, float)\n"
     ]
    },
    {
     "data": {
      "image/png": "[encoded data removed]",
      "text/plain": [
       "<Figure size 500x500 with 1 Axes>"
      ]
     },
     "metadata": {},
     "output_type": "display_data"
    }
   ],
   "source": [
    "tot = sum(eigen_vals)\n",
    "var_exp = [(i / tot) for i in sorted(eigen_vals, reverse=True)]\n",
    "plt.figure(figsize=[5, 5])\n",
    "plt.bar(range(1,48), var_exp, alpha=0.5,\n",
    "        align='center')\n",
    "plt.show()"
   ]
  },
  {
   "cell_type": "markdown",
   "metadata": {
    "id": "zBic5tsW_cdm"
   },
   "source": [
    "Мы видим, что последние 6 векторов не дают вообще никакой информации, поэтому мы можем понизить размерность на 6."
   ]
  },
  {
   "cell_type": "markdown",
   "metadata": {
    "id": "eyQWpHr4_dUB"
   },
   "source": [
    "# Понизим размерность до 6"
   ]
  },
  {
   "cell_type": "code",
   "execution_count": 44,
   "metadata": {
    "id": "aI9IrL-C_fP8"
   },
   "outputs": [],
   "source": [
    "scaled_data_train = pd.DataFrame(X_train_std)\n",
    "scaled_data_test = pd.DataFrame(X_test_std)"
   ]
  },
  {
   "cell_type": "code",
   "execution_count": 45,
   "metadata": {
    "id": "bs09avGn_leo"
   },
   "outputs": [],
   "source": [
    "pca_train = PCA(n_components = 6)\n",
    "pca_test = PCA(n_components = 6)\n",
    "\n",
    "pca_train.fit(scaled_data_train)\n",
    "pca_test.fit(scaled_data_test)\n",
    "\n",
    "data_pca_train = pca_train.transform(scaled_data_train)\n",
    "data_pca_test = pca_train.transform(scaled_data_test)\n",
    "\n",
    "data_pca_train = pd.DataFrame(data_pca_train)\n",
    "data_pca_test = pd.DataFrame(data_pca_test)"
   ]
  },
  {
   "cell_type": "code",
   "execution_count": 46,
   "metadata": {
    "colab": {
     "base_uri": "https://localhost:8080/",
     "height": 287
    },
    "id": "FMeiTeMI_nMK",
    "outputId": "ea06c728-572d-4873-f7bd-45c414d5e22c"
   },
   "outputs": [
    {
     "data": {
      "text/plain": [
       "<Axes: >"
      ]
     },
     "execution_count": 46,
     "metadata": {},
     "output_type": "execute_result"
    },
    {
     "data": {
      "image/png": "[encoded data removed]",
      "text/plain": [
       "<Figure size 640x480 with 2 Axes>"
      ]
     },
     "metadata": {},
     "output_type": "display_data"
    }
   ],
   "source": [
    "sns.heatmap(data_pca_train.corr())"
   ]
  },
  {
   "cell_type": "code",
   "execution_count": 47,
   "metadata": {
    "colab": {
     "base_uri": "https://localhost:8080/"
    },
    "id": "Itj1fmLF_o1H",
    "outputId": "814d25bf-eea5-4e16-f91e-6afd8e98f8d5"
   },
   "outputs": [
    {
     "name": "stderr",
     "output_type": "stream",
     "text": [
      "D:\\Anaconda\\Lib\\site-packages\\sklearn\\cluster\\_kmeans.py:1412: FutureWarning: The default value of `n_init` will change from 10 to 'auto' in 1.4. Set the value of `n_init` explicitly to suppress the warning\n",
      "  super()._check_params_vs_input(X, default_n_init=10)\n"
     ]
    },
    {
     "name": "stdout",
     "output_type": "stream",
     "text": [
      "RAND:  0.5799725425736434\n"
     ]
    }
   ],
   "source": [
    "model = KMeans(n_clusters=3, random_state=10)\n",
    "model.fit(data_pca_train)\n",
    "\n",
    "pred_labeles = model.predict(data_pca_test)\n",
    "rand_s = rand_score(Y_test, pred_labeles)\n",
    "print('RAND: ', rand_s)"
   ]
  },
  {
   "cell_type": "markdown",
   "metadata": {},
   "source": [
    "### Вывод: PCA и К-средних работают примерно с одинаковой точностью, но оба метода плохо подходят для данной задачи"
   ]
  },
  {
   "cell_type": "markdown",
   "metadata": {
    "id": "Fpj8dsAF_usN"
   },
   "source": [
    "# Теперь попробуем использовать Random forest"
   ]
  },
  {
   "cell_type": "markdown",
   "metadata": {
    "id": "QbVTzsuy_tfN"
   },
   "source": [
    "Для выборки полной размерности"
   ]
  },
  {
   "cell_type": "code",
   "execution_count": 48,
   "metadata": {
    "colab": {
     "base_uri": "https://localhost:8080/"
    },
    "id": "NRGNDKJm_0Qc",
    "outputId": "889de4a1-30aa-4800-b7ae-e83278c335e1"
   },
   "outputs": [
    {
     "data": {
      "text/html": [
       "<style>#sk-container-id-2 {color: black;}#sk-container-id-2 pre{padding: 0;}#sk-container-id-2 div.sk-toggleable {background-color: white;}#sk-container-id-2 label.sk-toggleable__label {cursor: pointer;display: block;width: 100%;margin-bottom: 0;padding: 0.3em;box-sizing: border-box;text-align: center;}#sk-container-id-2 label.sk-toggleable__label-arrow:before {content: \"▸\";float: left;margin-right: 0.25em;color: #696969;}#sk-container-id-2 label.sk-toggleable__label-arrow:hover:before {color: black;}#sk-container-id-2 div.sk-estimator:hover label.sk-toggleable__label-arrow:before {color: black;}#sk-container-id-2 div.sk-toggleable__content {max-height: 0;max-width: 0;overflow: hidden;text-align: left;background-color: #f0f8ff;}#sk-container-id-2 div.sk-toggleable__content pre {margin: 0.2em;color: black;border-radius: 0.25em;background-color: #f0f8ff;}#sk-container-id-2 input.sk-toggleable__control:checked~div.sk-toggleable__content {max-height: 200px;max-width: 100%;overflow: auto;}#sk-container-id-2 input.sk-toggleable__control:checked~label.sk-toggleable__label-arrow:before {content: \"▾\";}#sk-container-id-2 div.sk-estimator input.sk-toggleable__control:checked~label.sk-toggleable__label {background-color: #d4ebff;}#sk-container-id-2 div.sk-label input.sk-toggleable__control:checked~label.sk-toggleable__label {background-color: #d4ebff;}#sk-container-id-2 input.sk-hidden--visually {border: 0;clip: rect(1px 1px 1px 1px);clip: rect(1px, 1px, 1px, 1px);height: 1px;margin: -1px;overflow: hidden;padding: 0;position: absolute;width: 1px;}#sk-container-id-2 div.sk-estimator {font-family: monospace;background-color: #f0f8ff;border: 1px dotted black;border-radius: 0.25em;box-sizing: border-box;margin-bottom: 0.5em;}#sk-container-id-2 div.sk-estimator:hover {background-color: #d4ebff;}#sk-container-id-2 div.sk-parallel-item::after {content: \"\";width: 100%;border-bottom: 1px solid gray;flex-grow: 1;}#sk-container-id-2 div.sk-label:hover label.sk-toggleable__label {background-color: #d4ebff;}#sk-container-id-2 div.sk-serial::before {content: \"\";position: absolute;border-left: 1px solid gray;box-sizing: border-box;top: 0;bottom: 0;left: 50%;z-index: 0;}#sk-container-id-2 div.sk-serial {display: flex;flex-direction: column;align-items: center;background-color: white;padding-right: 0.2em;padding-left: 0.2em;position: relative;}#sk-container-id-2 div.sk-item {position: relative;z-index: 1;}#sk-container-id-2 div.sk-parallel {display: flex;align-items: stretch;justify-content: center;background-color: white;position: relative;}#sk-container-id-2 div.sk-item::before, #sk-container-id-2 div.sk-parallel-item::before {content: \"\";position: absolute;border-left: 1px solid gray;box-sizing: border-box;top: 0;bottom: 0;left: 50%;z-index: -1;}#sk-container-id-2 div.sk-parallel-item {display: flex;flex-direction: column;z-index: 1;position: relative;background-color: white;}#sk-container-id-2 div.sk-parallel-item:first-child::after {align-self: flex-end;width: 50%;}#sk-container-id-2 div.sk-parallel-item:last-child::after {align-self: flex-start;width: 50%;}#sk-container-id-2 div.sk-parallel-item:only-child::after {width: 0;}#sk-container-id-2 div.sk-dashed-wrapped {border: 1px dashed gray;margin: 0 0.4em 0.5em 0.4em;box-sizing: border-box;padding-bottom: 0.4em;background-color: white;}#sk-container-id-2 div.sk-label label {font-family: monospace;font-weight: bold;display: inline-block;line-height: 1.2em;}#sk-container-id-2 div.sk-label-container {text-align: center;}#sk-container-id-2 div.sk-container {/* jupyter's `normalize.less` sets `[hidden] { display: none; }` but bootstrap.min.css set `[hidden] { display: none !important; }` so we also need the `!important` here to be able to override the default hidden behavior on the sphinx rendered scikit-learn.org. See: https://github.com/scikit-learn/scikit-learn/issues/21755 */display: inline-block !important;position: relative;}#sk-container-id-2 div.sk-text-repr-fallback {display: none;}</style><div id=\"sk-container-id-2\" class=\"sk-top-container\"><div class=\"sk-text-repr-fallback\"><pre>RandomForestClassifier(random_state=5)</pre><b>In a Jupyter environment, please rerun this cell to show the HTML representation or trust the notebook. <br />On GitHub, the HTML representation is unable to render, please try loading this page with nbviewer.org.</b></div><div class=\"sk-container\" hidden><div class=\"sk-item\"><div class=\"sk-estimator sk-toggleable\"><input class=\"sk-toggleable__control sk-hidden--visually\" id=\"sk-estimator-id-2\" type=\"checkbox\" checked><label for=\"sk-estimator-id-2\" class=\"sk-toggleable__label sk-toggleable__label-arrow\">RandomForestClassifier</label><div class=\"sk-toggleable__content\"><pre>RandomForestClassifier(random_state=5)</pre></div></div></div></div></div>"
      ],
      "text/plain": [
       "RandomForestClassifier(random_state=5)"
      ]
     },
     "execution_count": 48,
     "metadata": {},
     "output_type": "execute_result"
    }
   ],
   "source": [
    "from types import new_class\n",
    "from sklearn.ensemble import RandomForestClassifier\n",
    "\n",
    "rfc = RandomForestClassifier(random_state=5)\n",
    "rfc.fit(X_train, Y_train)"
   ]
  },
  {
   "cell_type": "code",
   "execution_count": 49,
   "metadata": {
    "colab": {
     "base_uri": "https://localhost:8080/"
    },
    "id": "UT-jRcKE_yCB",
    "outputId": "40e1f26a-c81a-403a-8af2-c2c60e42f8bc"
   },
   "outputs": [
    {
     "name": "stdout",
     "output_type": "stream",
     "text": [
      "Оценка RAND:  0.7176718846548068\n"
     ]
    }
   ],
   "source": [
    "pred_labeles = rfc.predict(X_test)\n",
    "rand_s = rand_score(Y_test, pred_labeles)\n",
    "print('Оценка RAND: ', rand_s)"
   ]
  },
  {
   "cell_type": "code",
   "execution_count": 50,
   "metadata": {
    "colab": {
     "base_uri": "https://localhost:8080/",
     "height": 336
    },
    "id": "yJQWs71c_2wJ",
    "outputId": "46609050-0482-43fe-8bc9-4050a5e2e6f1"
   },
   "outputs": [
    {
     "data": {
      "image/png": "[encoded data removed]",
      "text/plain": [
       "<Figure size 640x480 with 2 Axes>"
      ]
     },
     "metadata": {},
     "output_type": "display_data"
    }
   ],
   "source": [
    "from sklearn.metrics import confusion_matrix, ConfusionMatrixDisplay\n",
    "\n",
    "cm = confusion_matrix(Y_test, pred_labeles, labels=rfc.classes_)\n",
    "disp = ConfusionMatrixDisplay(confusion_matrix=cm,\n",
    "                              display_labels=rfc.classes_)\n",
    "disp.plot()\n",
    "plt.show()"
   ]
  },
  {
   "cell_type": "markdown",
   "metadata": {
    "id": "PxFygmQlYaiP"
   },
   "source": [
    "Найдем оптимальное значение гиперпараметра n_estimators (количество деревьев)"
   ]
  },
  {
   "cell_type": "code",
   "execution_count": 51,
   "metadata": {
    "colab": {
     "base_uri": "https://localhost:8080/"
    },
    "id": "w1VKspyuXfFm",
    "outputId": "abb08835-5d1f-4380-e0f9-96c98347ebce"
   },
   "outputs": [
    {
     "name": "stdout",
     "output_type": "stream",
     "text": [
      "n: 1\n",
      "n: 2\n",
      "n: 3\n",
      "n: 4\n",
      "n: 5\n",
      "n: 6\n",
      "n: 7\n",
      "n: 8\n",
      "n: 9\n",
      "n: 10\n",
      "n: 20\n",
      "n: 30\n",
      "n: 40\n"
     ]
    }
   ],
   "source": [
    "n_estimators_arr = [i for i in range(1, 10)] + [i for i in range(10, 50, 10)]\n",
    "test_err = []\n",
    "train_err = []\n",
    "for n in n_estimators_arr:\n",
    "    rfc_model = RandomForestClassifier(n_estimators = n)\n",
    "    rfc_model.fit(X_train, Y_train)\n",
    "\n",
    "    y_train_pred = rfc_model.predict(X_train)\n",
    "    y_test_pred = rfc_model.predict(X_test)\n",
    "    train_err.append(np.mean(Y_train != y_train_pred))\n",
    "    test_err.append(np.mean(Y_test != y_test_pred))\n",
    "    print('n:', n)"
   ]
  },
  {
   "cell_type": "code",
   "execution_count": 52,
   "metadata": {
    "colab": {
     "base_uri": "https://localhost:8080/",
     "height": 296
    },
    "id": "q5yQQFGUZH_A",
    "outputId": "c1bbc444-0e42-45ec-898d-f3725c5df263"
   },
   "outputs": [
    {
     "data": {
      "image/png": "[encoded data removed]",
      "text/plain": [
       "<Figure size 640x480 with 1 Axes>"
      ]
     },
     "metadata": {},
     "output_type": "display_data"
    }
   ],
   "source": [
    "plt.plot(n_estimators_arr, train_err, 'r-o', label = 'train')\n",
    "plt.plot(n_estimators_arr, test_err, 'b-o', label = 'test')\n",
    "plt.title('Error vs. n_estimators')\n",
    "plt.xlabel('n_estimators')\n",
    "plt.ylabel('error')\n",
    "plt.legend()\n",
    "pass"
   ]
  },
  {
   "cell_type": "code",
   "execution_count": 53,
   "metadata": {
    "colab": {
     "base_uri": "https://localhost:8080/"
    },
    "id": "gYxd_XamcNjE",
    "outputId": "b3853159-0fd3-4b37-ee03-1b4934e2dcd7"
   },
   "outputs": [
    {
     "name": "stdout",
     "output_type": "stream",
     "text": [
      "0.0003271273947858738 0.22983274547730118\n"
     ]
    }
   ],
   "source": [
    "min_train_err = np.min(train_err)\n",
    "min_test_err = np.min(test_err)\n",
    "print(min_train_err, min_test_err)"
   ]
  },
  {
   "cell_type": "markdown",
   "metadata": {
    "id": "ttOEoWHGhX0B"
   },
   "source": [
    "Теперь рассмотрим зависимость от параметра max_depth (максимальная глубина дерева)"
   ]
  },
  {
   "cell_type": "code",
   "execution_count": 54,
   "metadata": {
    "colab": {
     "base_uri": "https://localhost:8080/"
    },
    "id": "Frmvkk35gtIl",
    "outputId": "cac77290-7313-4b9b-9689-997aee83c6b9"
   },
   "outputs": [
    {
     "name": "stdout",
     "output_type": "stream",
     "text": [
      "depth: 1\n",
      "depth: 2\n",
      "depth: 3\n",
      "depth: 4\n",
      "depth: 5\n",
      "depth: 6\n",
      "depth: 7\n",
      "depth: 8\n",
      "depth: 9\n",
      "depth: 10\n",
      "depth: 20\n",
      "depth: 30\n",
      "depth: 40\n",
      "depth: 50\n",
      "depth: 60\n",
      "depth: 70\n",
      "depth: 80\n",
      "depth: 90\n"
     ]
    }
   ],
   "source": [
    "max_depth_arr = [i for i in range(1, 10)] + [i for i in range(10, 100, 10)]\n",
    "test_err = []\n",
    "train_err = []\n",
    "for depth in max_depth_arr:\n",
    "    rfc_model = RandomForestClassifier(max_depth = depth)\n",
    "    rfc_model.fit(X_train, Y_train)\n",
    "\n",
    "    y_train_pred = rfc_model.predict(X_train)\n",
    "    y_test_pred = rfc_model.predict(X_test)\n",
    "    train_err.append(np.mean(Y_train != y_train_pred))\n",
    "    test_err.append(np.mean(Y_test != y_test_pred))\n",
    "    print('depth:', depth)"
   ]
  },
  {
   "cell_type": "code",
   "execution_count": 55,
   "metadata": {
    "colab": {
     "base_uri": "https://localhost:8080/",
     "height": 296
    },
    "id": "IQm6vyxohO0L",
    "outputId": "d93e24b6-1365-4628-bab5-40b49e5d8f28"
   },
   "outputs": [
    {
     "data": {
      "image/png": "[encoded data removed]",
      "text/plain": [
       "<Figure size 640x480 with 1 Axes>"
      ]
     },
     "metadata": {},
     "output_type": "display_data"
    }
   ],
   "source": [
    "plt.plot(max_depth_arr, train_err, 'r-o', label = 'train')\n",
    "plt.plot(max_depth_arr, test_err, 'b-o', label = 'test')\n",
    "plt.title('Error vs. max_depth')\n",
    "plt.xlabel('max_depth')\n",
    "plt.ylabel('error')\n",
    "plt.legend()"
   ]
  },
  {
   "cell_type": "code",
   "execution_count": 56,
   "metadata": {},
   "outputs": [
    {
     "data": {
      "text/html": [
       "<style>#sk-container-id-3 {color: black;}#sk-container-id-3 pre{padding: 0;}#sk-container-id-3 div.sk-toggleable {background-color: white;}#sk-container-id-3 label.sk-toggleable__label {cursor: pointer;display: block;width: 100%;margin-bottom: 0;padding: 0.3em;box-sizing: border-box;text-align: center;}#sk-container-id-3 label.sk-toggleable__label-arrow:before {content: \"▸\";float: left;margin-right: 0.25em;color: #696969;}#sk-container-id-3 label.sk-toggleable__label-arrow:hover:before {color: black;}#sk-container-id-3 div.sk-estimator:hover label.sk-toggleable__label-arrow:before {color: black;}#sk-container-id-3 div.sk-toggleable__content {max-height: 0;max-width: 0;overflow: hidden;text-align: left;background-color: #f0f8ff;}#sk-container-id-3 div.sk-toggleable__content pre {margin: 0.2em;color: black;border-radius: 0.25em;background-color: #f0f8ff;}#sk-container-id-3 input.sk-toggleable__control:checked~div.sk-toggleable__content {max-height: 200px;max-width: 100%;overflow: auto;}#sk-container-id-3 input.sk-toggleable__control:checked~label.sk-toggleable__label-arrow:before {content: \"▾\";}#sk-container-id-3 div.sk-estimator input.sk-toggleable__control:checked~label.sk-toggleable__label {background-color: #d4ebff;}#sk-container-id-3 div.sk-label input.sk-toggleable__control:checked~label.sk-toggleable__label {background-color: #d4ebff;}#sk-container-id-3 input.sk-hidden--visually {border: 0;clip: rect(1px 1px 1px 1px);clip: rect(1px, 1px, 1px, 1px);height: 1px;margin: -1px;overflow: hidden;padding: 0;position: absolute;width: 1px;}#sk-container-id-3 div.sk-estimator {font-family: monospace;background-color: #f0f8ff;border: 1px dotted black;border-radius: 0.25em;box-sizing: border-box;margin-bottom: 0.5em;}#sk-container-id-3 div.sk-estimator:hover {background-color: #d4ebff;}#sk-container-id-3 div.sk-parallel-item::after {content: \"\";width: 100%;border-bottom: 1px solid gray;flex-grow: 1;}#sk-container-id-3 div.sk-label:hover label.sk-toggleable__label {background-color: #d4ebff;}#sk-container-id-3 div.sk-serial::before {content: \"\";position: absolute;border-left: 1px solid gray;box-sizing: border-box;top: 0;bottom: 0;left: 50%;z-index: 0;}#sk-container-id-3 div.sk-serial {display: flex;flex-direction: column;align-items: center;background-color: white;padding-right: 0.2em;padding-left: 0.2em;position: relative;}#sk-container-id-3 div.sk-item {position: relative;z-index: 1;}#sk-container-id-3 div.sk-parallel {display: flex;align-items: stretch;justify-content: center;background-color: white;position: relative;}#sk-container-id-3 div.sk-item::before, #sk-container-id-3 div.sk-parallel-item::before {content: \"\";position: absolute;border-left: 1px solid gray;box-sizing: border-box;top: 0;bottom: 0;left: 50%;z-index: -1;}#sk-container-id-3 div.sk-parallel-item {display: flex;flex-direction: column;z-index: 1;position: relative;background-color: white;}#sk-container-id-3 div.sk-parallel-item:first-child::after {align-self: flex-end;width: 50%;}#sk-container-id-3 div.sk-parallel-item:last-child::after {align-self: flex-start;width: 50%;}#sk-container-id-3 div.sk-parallel-item:only-child::after {width: 0;}#sk-container-id-3 div.sk-dashed-wrapped {border: 1px dashed gray;margin: 0 0.4em 0.5em 0.4em;box-sizing: border-box;padding-bottom: 0.4em;background-color: white;}#sk-container-id-3 div.sk-label label {font-family: monospace;font-weight: bold;display: inline-block;line-height: 1.2em;}#sk-container-id-3 div.sk-label-container {text-align: center;}#sk-container-id-3 div.sk-container {/* jupyter's `normalize.less` sets `[hidden] { display: none; }` but bootstrap.min.css set `[hidden] { display: none !important; }` so we also need the `!important` here to be able to override the default hidden behavior on the sphinx rendered scikit-learn.org. See: https://github.com/scikit-learn/scikit-learn/issues/21755 */display: inline-block !important;position: relative;}#sk-container-id-3 div.sk-text-repr-fallback {display: none;}</style><div id=\"sk-container-id-3\" class=\"sk-top-container\"><div class=\"sk-text-repr-fallback\"><pre>RandomForestClassifier(random_state=40)</pre><b>In a Jupyter environment, please rerun this cell to show the HTML representation or trust the notebook. <br />On GitHub, the HTML representation is unable to render, please try loading this page with nbviewer.org.</b></div><div class=\"sk-container\" hidden><div class=\"sk-item\"><div class=\"sk-estimator sk-toggleable\"><input class=\"sk-toggleable__control sk-hidden--visually\" id=\"sk-estimator-id-3\" type=\"checkbox\" checked><label for=\"sk-estimator-id-3\" class=\"sk-toggleable__label sk-toggleable__label-arrow\">RandomForestClassifier</label><div class=\"sk-toggleable__content\"><pre>RandomForestClassifier(random_state=40)</pre></div></div></div></div></div>"
      ],
      "text/plain": [
       "RandomForestClassifier(random_state=40)"
      ]
     },
     "execution_count": 56,
     "metadata": {},
     "output_type": "execute_result"
    }
   ],
   "source": [
    "rfc = RandomForestClassifier(random_state=40)\n",
    "rfc.fit(data_pca_train, Y_train)"
   ]
  },
  {
   "cell_type": "code",
   "execution_count": 57,
   "metadata": {},
   "outputs": [
    {
     "data": {
      "image/png": "[encoded data removed]",
      "text/plain": [
       "<Figure size 640x480 with 2 Axes>"
      ]
     },
     "metadata": {},
     "output_type": "display_data"
    }
   ],
   "source": [
    "cm = confusion_matrix(Y_test, pred_labeles, labels=rfc.classes_)\n",
    "disp = ConfusionMatrixDisplay(confusion_matrix=cm,\n",
    "                              display_labels=rfc.classes_)\n",
    "disp.plot()\n",
    "plt.show()"
   ]
  },
  {
   "cell_type": "code",
   "execution_count": 58,
   "metadata": {},
   "outputs": [
    {
     "name": "stdout",
     "output_type": "stream",
     "text": [
      "Оценка RAND:  0.6023657893468275\n"
     ]
    }
   ],
   "source": [
    "pred_labeles = rfc.predict(data_pca_test)\n",
    "rand_s = rand_score(Y_test, pred_labeles)\n",
    "print('Оценка RAND: ', rand_s)"
   ]
  },
  {
   "cell_type": "markdown",
   "metadata": {},
   "source": [
    "## Вывод: из всех рассмотренных методов RandomForestClassifier работает лучше всех, так как имеет метрику Rand больше, чем у других. Однако метрика Rand все равно достаточно далека от 1, и для решения данной задачи ни один из этих методов не подходит, соответственно, следует выбирать другие, например, нейронные сети, которые мы рассмотрим в будущем."
   ]
  }
 ],
 "metadata": {
  "colab": {
   "provenance": []
  },
  "kernelspec": {
   "display_name": "Python 3",
   "language": "python",
   "name": "python3"
  },
  "language_info": {
   "codemirror_mode": {
    "name": "ipython",
    "version": 3
   },
   "file_extension": ".py",
   "mimetype": "text/x-python",
   "name": "python",
   "nbconvert_exporter": "python",
   "pygments_lexer": "ipython3",
   "version": "3.8.8"
  }
 },
 "nbformat": 4,
 "nbformat_minor": 1
}
